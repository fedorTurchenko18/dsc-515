{
 "cells": [
  {
   "cell_type": "code",
   "execution_count": 9,
   "metadata": {
    "tags": []
   },
   "outputs": [],
   "source": [
    "import pandas as pd, matplotlib.pyplot as plt, gzip, json, os"
   ]
  },
  {
   "cell_type": "markdown",
   "metadata": {},
   "source": [
    "## Images Resolution Analysis"
   ]
  },
  {
   "cell_type": "code",
   "execution_count": 10,
   "metadata": {
    "tags": []
   },
   "outputs": [],
   "source": [
    "images_data = pd.read_csv('images.csv')"
   ]
  },
  {
   "cell_type": "code",
   "execution_count": 11,
   "metadata": {
    "tags": []
   },
   "outputs": [
    {
     "data": {
      "text/html": [
       "<div>\n",
       "<style scoped>\n",
       "    .dataframe tbody tr th:only-of-type {\n",
       "        vertical-align: middle;\n",
       "    }\n",
       "\n",
       "    .dataframe tbody tr th {\n",
       "        vertical-align: top;\n",
       "    }\n",
       "\n",
       "    .dataframe thead th {\n",
       "        text-align: right;\n",
       "    }\n",
       "</style>\n",
       "<table border=\"1\" class=\"dataframe\">\n",
       "  <thead>\n",
       "    <tr style=\"text-align: right;\">\n",
       "      <th></th>\n",
       "      <th>image_id</th>\n",
       "      <th>height</th>\n",
       "      <th>width</th>\n",
       "      <th>path</th>\n",
       "    </tr>\n",
       "  </thead>\n",
       "  <tbody>\n",
       "    <tr>\n",
       "      <th>0</th>\n",
       "      <td>010-mllS7JL</td>\n",
       "      <td>106</td>\n",
       "      <td>106</td>\n",
       "      <td>14/14fe8812.jpg</td>\n",
       "    </tr>\n",
       "    <tr>\n",
       "      <th>1</th>\n",
       "      <td>01dkn0Gyx0L</td>\n",
       "      <td>122</td>\n",
       "      <td>122</td>\n",
       "      <td>da/daab0cad.jpg</td>\n",
       "    </tr>\n",
       "    <tr>\n",
       "      <th>2</th>\n",
       "      <td>01sUPg0387L</td>\n",
       "      <td>111</td>\n",
       "      <td>111</td>\n",
       "      <td>d2/d2daaae9.jpg</td>\n",
       "    </tr>\n",
       "    <tr>\n",
       "      <th>3</th>\n",
       "      <td>1168jc-5r1L</td>\n",
       "      <td>186</td>\n",
       "      <td>186</td>\n",
       "      <td>3a/3a4e88e6.jpg</td>\n",
       "    </tr>\n",
       "    <tr>\n",
       "      <th>4</th>\n",
       "      <td>11RUV5Fs65L</td>\n",
       "      <td>30</td>\n",
       "      <td>500</td>\n",
       "      <td>d9/d91ab9cf.jpg</td>\n",
       "    </tr>\n",
       "  </tbody>\n",
       "</table>\n",
       "</div>"
      ],
      "text/plain": [
       "      image_id  height  width             path\n",
       "0  010-mllS7JL     106    106  14/14fe8812.jpg\n",
       "1  01dkn0Gyx0L     122    122  da/daab0cad.jpg\n",
       "2  01sUPg0387L     111    111  d2/d2daaae9.jpg\n",
       "3  1168jc-5r1L     186    186  3a/3a4e88e6.jpg\n",
       "4  11RUV5Fs65L      30    500  d9/d91ab9cf.jpg"
      ]
     },
     "execution_count": 11,
     "metadata": {},
     "output_type": "execute_result"
    }
   ],
   "source": [
    "images_data.head()"
   ]
  },
  {
   "cell_type": "code",
   "execution_count": 12,
   "metadata": {
    "tags": []
   },
   "outputs": [
    {
     "data": {
      "text/plain": [
       "image_id    object\n",
       "height       int64\n",
       "width        int64\n",
       "path        object\n",
       "dtype: object"
      ]
     },
     "execution_count": 12,
     "metadata": {},
     "output_type": "execute_result"
    }
   ],
   "source": [
    "images_data.dtypes"
   ]
  },
  {
   "cell_type": "markdown",
   "metadata": {},
   "source": [
    "Let us filter all non-quadratic shaped images out"
   ]
  },
  {
   "cell_type": "code",
   "execution_count": 13,
   "metadata": {
    "tags": []
   },
   "outputs": [
    {
     "data": {
      "text/plain": [
       "height\n",
       "2560    45005\n",
       "1000    24945\n",
       "2000    16154\n",
       "1500    13813\n",
       "1200     7518\n",
       "        ...  \n",
       "1157        1\n",
       "1135        1\n",
       "1269        1\n",
       "1717        1\n",
       "1897        1\n",
       "Name: count, Length: 1572, dtype: int64"
      ]
     },
     "execution_count": 13,
     "metadata": {},
     "output_type": "execute_result"
    }
   ],
   "source": [
    "images_data[\n",
    "    images_data['height'] == images_data['width']\n",
    "]['height'].value_counts()"
   ]
  },
  {
   "cell_type": "markdown",
   "metadata": {},
   "source": [
    "Images of size 2560x2560 are the most common. What about both quadratic and rectangular images?"
   ]
  },
  {
   "cell_type": "code",
   "execution_count": 14,
   "metadata": {
    "tags": []
   },
   "outputs": [
    {
     "data": {
      "text/plain": [
       "2200x1879    92513\n",
       "2560x2560    45005\n",
       "1000x1000    24945\n",
       "2000x2000    16154\n",
       "1500x1500    13813\n",
       "             ...  \n",
       "2086x1941        1\n",
       "1137x2529        1\n",
       "1230x754         1\n",
       "883x2375         1\n",
       "2372x2397        1\n",
       "Name: count, Length: 45719, dtype: int64"
      ]
     },
     "execution_count": 14,
     "metadata": {},
     "output_type": "execute_result"
    }
   ],
   "source": [
    "(images_data['height'].astype(str) + 'x' + images_data['width'].astype(str)).value_counts()"
   ]
  },
  {
   "cell_type": "markdown",
   "metadata": {},
   "source": [
    "There are about 2x more images with the 2200x1879 resolution compared to the 2560x2560. However, how many various values for height and width do we have in general?"
   ]
  },
  {
   "cell_type": "code",
   "execution_count": 15,
   "metadata": {
    "tags": []
   },
   "outputs": [
    {
     "data": {
      "text/plain": [
       "<Axes: title={'center': 'Width'}, ylabel='Frequency'>"
      ]
     },
     "execution_count": 15,
     "metadata": {},
     "output_type": "execute_result"
    },
    {
     "data": {
      "image/png": "[encoded data removed]",
      "text/plain": [
       "<Figure size 1200x400 with 2 Axes>"
      ]
     },
     "metadata": {},
     "output_type": "display_data"
    }
   ],
   "source": [
    "fig, (ax1, ax2) = plt.subplots(1, 2, figsize=(12, 4))\n",
    "\n",
    "images_data.plot(kind='hist', x='height', ax=ax1, title='Height')\n",
    "images_data.plot(kind='hist', x='width', ax=ax2, title='Width')"
   ]
  },
  {
   "cell_type": "markdown",
   "metadata": {},
   "source": [
    "Evidently, we have both quite small and large images as well. Since the data is this diverse, we should decide upon a uniform resolution for our images:\n",
    "\n",
    "1. 2200x1879 (92513 images)\n",
    "2. 2560x2560 (45005 images)"
   ]
  },
  {
   "cell_type": "code",
   "execution_count": 16,
   "metadata": {
    "tags": []
   },
   "outputs": [],
   "source": [
    "# 2200x1879\n",
    "images_2200x1879 = images_data[\n",
    "    (images_data['height'] == 2200) &\n",
    "    (images_data['width'] == 1879)\n",
    "]"
   ]
  },
  {
   "cell_type": "markdown",
   "metadata": {},
   "source": [
    "## Images Metadata Parsing"
   ]
  },
  {
   "cell_type": "markdown",
   "metadata": {},
   "source": [
    "First, let us extract the category for (ideally) each image. We will create a list of dictionaries:\n",
    "```\n",
    "[\n",
    "    {\"image_id\": \"category},\n",
    "    ...\n",
    "]\n",
    "```"
   ]
  },
  {
   "cell_type": "code",
   "execution_count": 17,
   "metadata": {
    "tags": []
   },
   "outputs": [],
   "source": [
    "gz_files = os.listdir('metadata')\n",
    "gz_files = [i for i in gz_files if i != '.DS_Store']\n",
    "\n",
    "image_metadata = []\n",
    "\n",
    "for f in gz_files:\n",
    "    with gzip.open(f'metadata/{f}', \"rt\", encoding='utf-8') as gz_file:\n",
    "        gz_data = gz_file.read()\n",
    "        gz_data_list = gz_data.split('\\n')\n",
    "        \n",
    "        # need to parse line by line, otherwise there is an error\n",
    "        for line in gz_data_list[:-1]:\n",
    "            data = json.loads(line)\n",
    "            try:\n",
    "                image_metadata.append(\n",
    "                    {\n",
    "                        data['main_image_id']: [\n",
    "                            data['product_type'][0]['value'],\n",
    "                            data['model_name'][0]['value'],\n",
    "                            data['brand'][0]['value'],\n",
    "                            data['country'],\n",
    "                            data['item_name'][0]['value'],\n",
    "                            data['marketplace'],\n",
    "                        ]\n",
    "                    }\n",
    "                )\n",
    "                # can get more other info, see README.md for details\n",
    "            except KeyError:\n",
    "                pass"
   ]
  },
  {
   "cell_type": "code",
   "execution_count": 18,
   "metadata": {
    "tags": []
   },
   "outputs": [],
   "source": [
    "image_metadata_df = pd.DataFrame(\n",
    "    {\n",
    "        'image_id': [list(i.keys())[0] for i in image_metadata],\n",
    "        'category': [list(i.values())[0][0] for i in image_metadata],\n",
    "        'model_name': [list(i.values())[0][1] for i in image_metadata],\n",
    "        'brand': [list(i.values())[0][2] for i in image_metadata],\n",
    "        'country': [list(i.values())[0][3] for i in image_metadata],\n",
    "        'item_name': [list(i.values())[0][4] for i in image_metadata],\n",
    "        'marketplace': [list(i.values())[0][5] for i in image_metadata],\n",
    "    }\n",
    ")"
   ]
  },
  {
   "cell_type": "code",
   "execution_count": 19,
   "metadata": {
    "tags": []
   },
   "outputs": [],
   "source": [
    "image_metadata_df_2200x1879 = image_metadata_df.merge(images_2200x1879)"
   ]
  },
  {
   "cell_type": "markdown",
   "metadata": {},
   "source": [
    "Let us see what categories we get for the images of size 2200x1879 px"
   ]
  },
  {
   "cell_type": "code",
   "execution_count": 20,
   "metadata": {
    "tags": []
   },
   "outputs": [
    {
     "data": {
      "text/plain": [
       "category\n",
       "CELLULAR_PHONE_CASE    54815\n",
       "Name: count, dtype: int64"
      ]
     },
     "execution_count": 20,
     "metadata": {},
     "output_type": "execute_result"
    }
   ],
   "source": [
    "image_metadata_df_2200x1879['category'].value_counts()"
   ]
  },
  {
   "cell_type": "markdown",
   "metadata": {},
   "source": [
    "It seems only phone cases are represented by the images of this size. Let us see what categories we have in the full dataset"
   ]
  },
  {
   "cell_type": "code",
   "execution_count": 21,
   "metadata": {
    "tags": []
   },
   "outputs": [
    {
     "data": {
      "text/plain": [
       "category\n",
       "CELLULAR_PHONE_CASE         64559\n",
       "SHOES                        7702\n",
       "BOOT                         1934\n",
       "SANDAL                       1784\n",
       "FINERING                      578\n",
       "                            ...  \n",
       "BODY_POSITIONER                 1\n",
       "ABIS_ELECTRONICS                1\n",
       "CAMERA_OTHER_ACCESSORIES        1\n",
       "CHARGING_ADAPTER                1\n",
       "DISHWARE_BOWL                   1\n",
       "Name: count, Length: 235, dtype: int64"
      ]
     },
     "execution_count": 21,
     "metadata": {},
     "output_type": "execute_result"
    }
   ],
   "source": [
    "image_metadata_df['category'].value_counts()"
   ]
  },
  {
   "cell_type": "markdown",
   "metadata": {},
   "source": [
    "All in all, phone cases is the most popular category of all the listings. I think we can reduce the problem to extracting top N similar phone cases base on the user input. Consider the following scenario:\n",
    "\n",
    "1. A user finds a nice case on Pinterest, from a friend, etc.\n",
    "2. They are obviously not sure which words to use to describe it\n",
    "3. Consequently, it becomes difficult for them to buy such a case\n",
    "4. As a solution, they can use our service, which will look similar cases up\n",
    "\n",
    "The problem is quite challenging, since the model has to be able to determine all the subtle features of the case, e.g., Hello Kitty pic, stars, flowers, etc."
   ]
  },
  {
   "cell_type": "markdown",
   "metadata": {},
   "source": [
    "Now we shall come up with a target variable for the CNN. Training the model to distinguish phone brands the cases are made for could be reasonable, since at the very least the model should recommend iphone cases when the user uploads an iphone case picture. Assuming the brand name comes first, let us try and extract the phone manufacturers names"
   ]
  },
  {
   "cell_type": "code",
   "execution_count": 22,
   "metadata": {
    "tags": []
   },
   "outputs": [],
   "source": [
    "image_metadata_df_2200x1879['phone_brand'] = image_metadata_df_2200x1879['model_name'].\\\n",
    "    str.lower().\\\n",
    "    str.replace('\\xa0', ' ').\\\n",
    "    apply(lambda x: x[:x.find(' ')])"
   ]
  },
  {
   "cell_type": "code",
   "execution_count": 23,
   "metadata": {
    "tags": []
   },
   "outputs": [
    {
     "data": {
      "text/plain": [
       "phone_brand\n",
       "samsung          10315\n",
       "vivo              5303\n",
       "oppo              3450\n",
       "micromax          2830\n",
       "lenovo            2805\n",
       "                 ...  \n",
       "gz8602-sl4059        1\n",
       "gz8599-sl4051        1\n",
       "gz8623-sl4045        1\n",
       "gz8632-sl4077        1\n",
       "gz8462-sl4068        1\n",
       "Name: count, Length: 225, dtype: int64"
      ]
     },
     "execution_count": 23,
     "metadata": {},
     "output_type": "execute_result"
    }
   ],
   "source": [
    "image_metadata_df_2200x1879['phone_brand'].value_counts()"
   ]
  },
  {
   "cell_type": "markdown",
   "metadata": {},
   "source": [
    "There is a bunch of \"gz\" phones, we can combine them into one brand name"
   ]
  },
  {
   "cell_type": "code",
   "execution_count": 24,
   "metadata": {
    "tags": []
   },
   "outputs": [],
   "source": [
    "image_metadata_df_2200x1879['phone_brand'] = image_metadata_df_2200x1879['phone_brand'].str.replace(r'^gz\\d{4}-sl\\d{4}', 'gz', regex=True)"
   ]
  },
  {
   "cell_type": "code",
   "execution_count": 25,
   "metadata": {
    "tags": []
   },
   "outputs": [
    {
     "data": {
      "text/plain": [
       "phone_brand\n",
       "samsung           10315\n",
       "vivo               5303\n",
       "oppo               3450\n",
       "micromax           2830\n",
       "lenovo             2805\n",
       "apple              2761\n",
       "motorola           2526\n",
       "gionee             2488\n",
       "lg                 2417\n",
       "huawei             2098\n",
       "nokia              2048\n",
       "asus               1844\n",
       "sony               1671\n",
       "xiaomi             1444\n",
       "mi                 1163\n",
       "oneplus            1068\n",
       "realme              955\n",
       "coolpad             794\n",
       "lyf                 641\n",
       "lava                625\n",
       "htc                 580\n",
       "infocus             520\n",
       "tecno               456\n",
       "poco                404\n",
       "panasonic           395\n",
       "microsoft           336\n",
       "itel                288\n",
       "letv                276\n",
       "moto                237\n",
       "comio               213\n",
       "gz                  191\n",
       "leeco               184\n",
       "meizu               180\n",
       "i                   177\n",
       "honor               168\n",
       "10.or               158\n",
       "karbonn             130\n",
       "infinix             124\n",
       "spice                99\n",
       "ivoomi               90\n",
       "intex                61\n",
       "mobiistar            55\n",
       "nexus                51\n",
       "ikall                46\n",
       "redmi                44\n",
       "techno               42\n",
       "lephone              30\n",
       "acer                 17\n",
       "fluo                 15\n",
       "galaxy                1\n",
       "uv10920-sl4050        1\n",
       "Name: count, dtype: int64"
      ]
     },
     "execution_count": 25,
     "metadata": {},
     "output_type": "execute_result"
    }
   ],
   "source": [
    "image_metadata_df_2200x1879['phone_brand'].value_counts()"
   ]
  },
  {
   "cell_type": "markdown",
   "metadata": {},
   "source": [
    "We have already reduced the number of classes quite significantly. However, there are also 2 categories with only 1 observation. Galaxy clearly refers to Samsung, and by googling \"uv10920\" we can find out that it is actually a [Redmi](https://www.amazon.in/Amazon-Brand-Designer-Sparkle-Printed/dp/B085S3SBM7) smartphone case"
   ]
  },
  {
   "cell_type": "code",
   "execution_count": 26,
   "metadata": {
    "tags": []
   },
   "outputs": [],
   "source": [
    "image_metadata_df_2200x1879['phone_brand'] = image_metadata_df_2200x1879['phone_brand'].\\\n",
    "    str.replace('galaxy', 'samsung').\\\n",
    "    str.replace('uv10920-sl4050', 'redmi')"
   ]
  },
  {
   "cell_type": "code",
   "execution_count": 27,
   "metadata": {
    "tags": []
   },
   "outputs": [
    {
     "data": {
      "text/plain": [
       "phone_brand\n",
       "samsung      10316\n",
       "vivo          5303\n",
       "oppo          3450\n",
       "micromax      2830\n",
       "lenovo        2805\n",
       "apple         2761\n",
       "motorola      2526\n",
       "gionee        2488\n",
       "lg            2417\n",
       "huawei        2098\n",
       "nokia         2048\n",
       "asus          1844\n",
       "sony          1671\n",
       "xiaomi        1444\n",
       "mi            1163\n",
       "oneplus       1068\n",
       "realme         955\n",
       "coolpad        794\n",
       "lyf            641\n",
       "lava           625\n",
       "htc            580\n",
       "infocus        520\n",
       "tecno          456\n",
       "poco           404\n",
       "panasonic      395\n",
       "microsoft      336\n",
       "itel           288\n",
       "letv           276\n",
       "moto           237\n",
       "comio          213\n",
       "gz             191\n",
       "leeco          184\n",
       "meizu          180\n",
       "i              177\n",
       "honor          168\n",
       "10.or          158\n",
       "karbonn        130\n",
       "infinix        124\n",
       "spice           99\n",
       "ivoomi          90\n",
       "intex           61\n",
       "mobiistar       55\n",
       "nexus           51\n",
       "ikall           46\n",
       "redmi           45\n",
       "techno          42\n",
       "lephone         30\n",
       "acer            17\n",
       "fluo            15\n",
       "Name: count, dtype: int64"
      ]
     },
     "execution_count": 27,
     "metadata": {},
     "output_type": "execute_result"
    }
   ],
   "source": [
    "image_metadata_df_2200x1879['phone_brand'].value_counts()"
   ]
  },
  {
   "cell_type": "code",
   "execution_count": 28,
   "metadata": {
    "tags": []
   },
   "outputs": [
    {
     "data": {
      "text/plain": [
       "(49,)"
      ]
     },
     "execution_count": 28,
     "metadata": {},
     "output_type": "execute_result"
    }
   ],
   "source": [
    "image_metadata_df_2200x1879['phone_brand'].value_counts().shape"
   ]
  },
  {
   "cell_type": "markdown",
   "metadata": {},
   "source": [
    "All in all, we end up with 49 unique brands in total. We can either set a threshold and combine some underrepresented classes into one category, or proceed with 49 classes"
   ]
  },
  {
   "cell_type": "code",
   "execution_count": 29,
   "metadata": {
    "tags": []
   },
   "outputs": [],
   "source": [
    "image_metadata_df_2200x1879.to_csv('images_phone_cases.csv', index=False)"
   ]
  },
  {
   "cell_type": "code",
   "execution_count": 30,
   "metadata": {
    "tags": []
   },
   "outputs": [
    {
     "data": {
      "text/html": [
       "<div>\n",
       "<style scoped>\n",
       "    .dataframe tbody tr th:only-of-type {\n",
       "        vertical-align: middle;\n",
       "    }\n",
       "\n",
       "    .dataframe tbody tr th {\n",
       "        vertical-align: top;\n",
       "    }\n",
       "\n",
       "    .dataframe thead th {\n",
       "        text-align: right;\n",
       "    }\n",
       "</style>\n",
       "<table border=\"1\" class=\"dataframe\">\n",
       "  <thead>\n",
       "    <tr style=\"text-align: right;\">\n",
       "      <th></th>\n",
       "      <th>image_id</th>\n",
       "      <th>category</th>\n",
       "      <th>model_name</th>\n",
       "      <th>brand</th>\n",
       "      <th>country</th>\n",
       "      <th>item_name</th>\n",
       "      <th>marketplace</th>\n",
       "      <th>height</th>\n",
       "      <th>width</th>\n",
       "      <th>path</th>\n",
       "      <th>phone_brand</th>\n",
       "    </tr>\n",
       "  </thead>\n",
       "  <tbody>\n",
       "    <tr>\n",
       "      <th>0</th>\n",
       "      <td>81+4dBN1jsL</td>\n",
       "      <td>CELLULAR_PHONE_CASE</td>\n",
       "      <td>Mi Redmi Go</td>\n",
       "      <td>Amazon Brand - Solimo</td>\n",
       "      <td>IN</td>\n",
       "      <td>Amazon Brand - Solimo Designer Autumn Girl 3D ...</td>\n",
       "      <td>Amazon</td>\n",
       "      <td>2200</td>\n",
       "      <td>1879</td>\n",
       "      <td>9d/9dfccb37.jpg</td>\n",
       "      <td>mi</td>\n",
       "    </tr>\n",
       "    <tr>\n",
       "      <th>1</th>\n",
       "      <td>71tgJqobw6L</td>\n",
       "      <td>CELLULAR_PHONE_CASE</td>\n",
       "      <td>Vivo Y81i</td>\n",
       "      <td>Amazon Brand - Solimo</td>\n",
       "      <td>IN</td>\n",
       "      <td>Amazon Brand - Solimo Designer Butterflies Neo...</td>\n",
       "      <td>Amazon</td>\n",
       "      <td>2200</td>\n",
       "      <td>1879</td>\n",
       "      <td>77/77412532.jpg</td>\n",
       "      <td>vivo</td>\n",
       "    </tr>\n",
       "    <tr>\n",
       "      <th>2</th>\n",
       "      <td>71Ajg8gQEoL</td>\n",
       "      <td>CELLULAR_PHONE_CASE</td>\n",
       "      <td>Karbonn Aura Power 4G Plus</td>\n",
       "      <td>Amazon Brand - Solimo</td>\n",
       "      <td>IN</td>\n",
       "      <td>Amazon Brand - Solimo Designer Autumn Girl UV ...</td>\n",
       "      <td>Amazon</td>\n",
       "      <td>2200</td>\n",
       "      <td>1879</td>\n",
       "      <td>5f/5f0c12f2.jpg</td>\n",
       "      <td>karbonn</td>\n",
       "    </tr>\n",
       "    <tr>\n",
       "      <th>3</th>\n",
       "      <td>71z2XJ0DW2L</td>\n",
       "      <td>CELLULAR_PHONE_CASE</td>\n",
       "      <td>Samsung Galaxy A70s</td>\n",
       "      <td>Amazon Brand - Solimo</td>\n",
       "      <td>IN</td>\n",
       "      <td>Amazon Brand - Solimo Designer Water Drop On G...</td>\n",
       "      <td>Amazon</td>\n",
       "      <td>2200</td>\n",
       "      <td>1879</td>\n",
       "      <td>8b/8b519b9b.jpg</td>\n",
       "      <td>samsung</td>\n",
       "    </tr>\n",
       "    <tr>\n",
       "      <th>4</th>\n",
       "      <td>81RNHjN1X5L</td>\n",
       "      <td>CELLULAR_PHONE_CASE</td>\n",
       "      <td>Motorola Moto G4 Plus</td>\n",
       "      <td>Amazon Brand - Solimo</td>\n",
       "      <td>IN</td>\n",
       "      <td>Amazon Brand - Solimo Designer Cactus 3D Print...</td>\n",
       "      <td>Amazon</td>\n",
       "      <td>2200</td>\n",
       "      <td>1879</td>\n",
       "      <td>a1/a1774265.jpg</td>\n",
       "      <td>motorola</td>\n",
       "    </tr>\n",
       "    <tr>\n",
       "      <th>...</th>\n",
       "      <td>...</td>\n",
       "      <td>...</td>\n",
       "      <td>...</td>\n",
       "      <td>...</td>\n",
       "      <td>...</td>\n",
       "      <td>...</td>\n",
       "      <td>...</td>\n",
       "      <td>...</td>\n",
       "      <td>...</td>\n",
       "      <td>...</td>\n",
       "      <td>...</td>\n",
       "    </tr>\n",
       "    <tr>\n",
       "      <th>54810</th>\n",
       "      <td>81Bt9CB2CfL</td>\n",
       "      <td>CELLULAR_PHONE_CASE</td>\n",
       "      <td>Panasonic Eluga I3</td>\n",
       "      <td>Amazon Brand - Solimo</td>\n",
       "      <td>IN</td>\n",
       "      <td>Amazon Brand - Solimo Designer Queen On Red Gl...</td>\n",
       "      <td>Amazon</td>\n",
       "      <td>2200</td>\n",
       "      <td>1879</td>\n",
       "      <td>1d/1d9960b0.jpg</td>\n",
       "      <td>panasonic</td>\n",
       "    </tr>\n",
       "    <tr>\n",
       "      <th>54811</th>\n",
       "      <td>81HjO6sRWGL</td>\n",
       "      <td>CELLULAR_PHONE_CASE</td>\n",
       "      <td>Sony Xperia L2</td>\n",
       "      <td>Amazon Brand - Solimo</td>\n",
       "      <td>IN</td>\n",
       "      <td>Amazon Brand - Solimo Designer No 3D Printed H...</td>\n",
       "      <td>Amazon</td>\n",
       "      <td>2200</td>\n",
       "      <td>1879</td>\n",
       "      <td>98/98ad24f7.jpg</td>\n",
       "      <td>sony</td>\n",
       "    </tr>\n",
       "    <tr>\n",
       "      <th>54812</th>\n",
       "      <td>71XYHEPKdpL</td>\n",
       "      <td>CELLULAR_PHONE_CASE</td>\n",
       "      <td>Huawei Honor 4C</td>\n",
       "      <td>Amazon Brand - Solimo</td>\n",
       "      <td>IN</td>\n",
       "      <td>Amazon Brand - Solimo Designer Apple Texture 3...</td>\n",
       "      <td>Amazon</td>\n",
       "      <td>2200</td>\n",
       "      <td>1879</td>\n",
       "      <td>5c/5c95a488.jpg</td>\n",
       "      <td>huawei</td>\n",
       "    </tr>\n",
       "    <tr>\n",
       "      <th>54813</th>\n",
       "      <td>71xgAzHOVeL</td>\n",
       "      <td>CELLULAR_PHONE_CASE</td>\n",
       "      <td>Oppo F15</td>\n",
       "      <td>Amazon Brand - Solimo</td>\n",
       "      <td>IN</td>\n",
       "      <td>Amazon Brand - Solimo Designer Daddy's Girl in...</td>\n",
       "      <td>Amazon</td>\n",
       "      <td>2200</td>\n",
       "      <td>1879</td>\n",
       "      <td>fa/faa42b52.jpg</td>\n",
       "      <td>oppo</td>\n",
       "    </tr>\n",
       "    <tr>\n",
       "      <th>54814</th>\n",
       "      <td>71Is9RZtGNL</td>\n",
       "      <td>CELLULAR_PHONE_CASE</td>\n",
       "      <td>Samsung Galaxy A71</td>\n",
       "      <td>Amazon Brand - Solimo</td>\n",
       "      <td>IN</td>\n",
       "      <td>Amazon Brand - Solimo Designer Pink Lady Patte...</td>\n",
       "      <td>Amazon</td>\n",
       "      <td>2200</td>\n",
       "      <td>1879</td>\n",
       "      <td>a7/a76d2dd2.jpg</td>\n",
       "      <td>samsung</td>\n",
       "    </tr>\n",
       "  </tbody>\n",
       "</table>\n",
       "<p>54815 rows × 11 columns</p>\n",
       "</div>"
      ],
      "text/plain": [
       "          image_id             category                  model_name  \\\n",
       "0      81+4dBN1jsL  CELLULAR_PHONE_CASE                 Mi Redmi Go   \n",
       "1      71tgJqobw6L  CELLULAR_PHONE_CASE                   Vivo Y81i   \n",
       "2      71Ajg8gQEoL  CELLULAR_PHONE_CASE  Karbonn Aura Power 4G Plus   \n",
       "3      71z2XJ0DW2L  CELLULAR_PHONE_CASE         Samsung Galaxy A70s   \n",
       "4      81RNHjN1X5L  CELLULAR_PHONE_CASE       Motorola Moto G4 Plus   \n",
       "...            ...                  ...                         ...   \n",
       "54810  81Bt9CB2CfL  CELLULAR_PHONE_CASE          Panasonic Eluga I3   \n",
       "54811  81HjO6sRWGL  CELLULAR_PHONE_CASE              Sony Xperia L2   \n",
       "54812  71XYHEPKdpL  CELLULAR_PHONE_CASE             Huawei Honor 4C   \n",
       "54813  71xgAzHOVeL  CELLULAR_PHONE_CASE                    Oppo F15   \n",
       "54814  71Is9RZtGNL  CELLULAR_PHONE_CASE          Samsung Galaxy A71   \n",
       "\n",
       "                       brand country  \\\n",
       "0      Amazon Brand - Solimo      IN   \n",
       "1      Amazon Brand - Solimo      IN   \n",
       "2      Amazon Brand - Solimo      IN   \n",
       "3      Amazon Brand - Solimo      IN   \n",
       "4      Amazon Brand - Solimo      IN   \n",
       "...                      ...     ...   \n",
       "54810  Amazon Brand - Solimo      IN   \n",
       "54811  Amazon Brand - Solimo      IN   \n",
       "54812  Amazon Brand - Solimo      IN   \n",
       "54813  Amazon Brand - Solimo      IN   \n",
       "54814  Amazon Brand - Solimo      IN   \n",
       "\n",
       "                                               item_name marketplace  height  \\\n",
       "0      Amazon Brand - Solimo Designer Autumn Girl 3D ...      Amazon    2200   \n",
       "1      Amazon Brand - Solimo Designer Butterflies Neo...      Amazon    2200   \n",
       "2      Amazon Brand - Solimo Designer Autumn Girl UV ...      Amazon    2200   \n",
       "3      Amazon Brand - Solimo Designer Water Drop On G...      Amazon    2200   \n",
       "4      Amazon Brand - Solimo Designer Cactus 3D Print...      Amazon    2200   \n",
       "...                                                  ...         ...     ...   \n",
       "54810  Amazon Brand - Solimo Designer Queen On Red Gl...      Amazon    2200   \n",
       "54811  Amazon Brand - Solimo Designer No 3D Printed H...      Amazon    2200   \n",
       "54812  Amazon Brand - Solimo Designer Apple Texture 3...      Amazon    2200   \n",
       "54813  Amazon Brand - Solimo Designer Daddy's Girl in...      Amazon    2200   \n",
       "54814  Amazon Brand - Solimo Designer Pink Lady Patte...      Amazon    2200   \n",
       "\n",
       "       width             path phone_brand  \n",
       "0       1879  9d/9dfccb37.jpg          mi  \n",
       "1       1879  77/77412532.jpg        vivo  \n",
       "2       1879  5f/5f0c12f2.jpg     karbonn  \n",
       "3       1879  8b/8b519b9b.jpg     samsung  \n",
       "4       1879  a1/a1774265.jpg    motorola  \n",
       "...      ...              ...         ...  \n",
       "54810   1879  1d/1d9960b0.jpg   panasonic  \n",
       "54811   1879  98/98ad24f7.jpg        sony  \n",
       "54812   1879  5c/5c95a488.jpg      huawei  \n",
       "54813   1879  fa/faa42b52.jpg        oppo  \n",
       "54814   1879  a7/a76d2dd2.jpg     samsung  \n",
       "\n",
       "[54815 rows x 11 columns]"
      ]
     },
     "execution_count": 30,
     "metadata": {},
     "output_type": "execute_result"
    }
   ],
   "source": [
    "image_metadata_df_2200x1879"
   ]
  },
  {
   "cell_type": "markdown",
   "metadata": {},
   "source": [
    "lets create a list if all item)names and see most common words"
   ]
  },
  {
   "cell_type": "code",
   "execution_count": 60,
   "metadata": {
    "tags": []
   },
   "outputs": [],
   "source": [
    "from collections import Counter\n",
    "\n",
    "word_counts = Counter()\n",
    "image_metadata_df_2200x1879['item_name'].str.split().apply(word_counts.update)\n",
    "\n",
    "# Sort by count\n",
    "sorted_word_counts = sorted(word_counts.items(), key=lambda x: x[1], reverse=True)\n"
   ]
  },
  {
   "cell_type": "code",
   "execution_count": 62,
   "metadata": {
    "tags": []
   },
   "outputs": [
    {
     "name": "stdout",
     "output_type": "stream",
     "text": [
      "('for', 54878)\n",
      "('Amazon', 54815)\n",
      "('-', 54815)\n",
      "('Solimo', 54815)\n",
      "('Brand', 54813)\n",
      "('Designer', 54810)\n",
      "('Printed', 54810)\n",
      "('Back', 54810)\n",
      "('Case', 54810)\n",
      "('Mobile', 54810)\n",
      "('Cover', 54810)\n",
      "('3D', 39462)\n",
      "('Hard', 39457)\n",
      "('UV', 15353)\n",
      "('Soft', 15353)\n",
      "('Samsung', 10339)\n",
      "('Galaxy', 10017)\n",
      "('Plus', 5496)\n",
      "('Vivo', 5290)\n",
      "('Texture', 5188)\n",
      "('Pro', 4314)\n",
      "('Pattern', 4141)\n",
      "('Canvas', 3570)\n",
      "('Oppo', 3450)\n",
      "('On', 3260)\n",
      "('Girl', 3246)\n",
      "('Color', 3099)\n",
      "('Multicolor', 3001)\n",
      "('Max', 2940)\n",
      "('Apple', 2890)\n",
      "('Note', 2846)\n",
      "('Micromax', 2830)\n",
      "('Lenovo', 2809)\n",
      "('and', 2756)\n",
      "('Redmi', 2718)\n",
      "('iPhone', 2661)\n",
      "('Moto', 2576)\n",
      "('Motorola', 2535)\n",
      "('2', 2497)\n",
      "('Gionee', 2488)\n",
      "('LG', 2417)\n",
      "('Cut)', 2248)\n",
      "('3', 2160)\n",
      "('Huawei', 2111)\n",
      "('Nokia', 2064)\n",
      "('/', 2023)\n",
      "('Red', 1949)\n",
      "('Asus', 1858)\n",
      "('Pink', 1821)\n",
      "('Zenfone', 1780)\n"
     ]
    }
   ],
   "source": [
    "for a in sorted_word_counts[:50]:\n",
    "    print(a)"
   ]
  },
  {
   "cell_type": "code",
   "execution_count": 31,
   "metadata": {
    "tags": []
   },
   "outputs": [
    {
     "data": {
      "text/plain": [
       "image_id       object\n",
       "category       object\n",
       "model_name     object\n",
       "brand          object\n",
       "country        object\n",
       "item_name      object\n",
       "marketplace    object\n",
       "height          int64\n",
       "width           int64\n",
       "path           object\n",
       "phone_brand    object\n",
       "dtype: object"
      ]
     },
     "execution_count": 31,
     "metadata": {},
     "output_type": "execute_result"
    }
   ],
   "source": [
    "image_metadata_df_2200x1879.dtypes"
   ]
  },
  {
   "cell_type": "markdown",
   "metadata": {},
   "source": [
    "Lets write code to access the image file as well as preview it"
   ]
  },
  {
   "cell_type": "code",
   "execution_count": 32,
   "metadata": {
    "tags": []
   },
   "outputs": [
    {
     "data": {
      "text/plain": [
       "image_id                                             81+4dBN1jsL\n",
       "category                                     CELLULAR_PHONE_CASE\n",
       "model_name                                           Mi Redmi Go\n",
       "brand                                      Amazon Brand - Solimo\n",
       "country                                                       IN\n",
       "item_name      Amazon Brand - Solimo Designer Autumn Girl 3D ...\n",
       "marketplace                                               Amazon\n",
       "height                                                      2200\n",
       "width                                                       1879\n",
       "path                                             9d/9dfccb37.jpg\n",
       "phone_brand                                                   mi\n",
       "Name: 0, dtype: object"
      ]
     },
     "execution_count": 32,
     "metadata": {},
     "output_type": "execute_result"
    }
   ],
   "source": [
    "record = image_metadata_df_2200x1879.iloc[0]\n",
    "record"
   ]
  },
  {
   "cell_type": "code",
   "execution_count": 33,
   "metadata": {
    "tags": []
   },
   "outputs": [
    {
     "data": {
      "text/plain": [
       "'D:\\\\abo\\\\images'"
      ]
     },
     "execution_count": 33,
     "metadata": {},
     "output_type": "execute_result"
    }
   ],
   "source": [
    "import os\n",
    "from dotenv import load_dotenv\n",
    "\n",
    "load_dotenv()\n",
    "\n",
    "folder_path = os.getenv('INIT_FOLDER_PATH')\n",
    "folder_path\n",
    "\n",
    "images_path = os.path.join(folder_path, 'images')\n",
    "images_path"
   ]
  },
  {
   "cell_type": "code",
   "execution_count": 34,
   "metadata": {
    "tags": []
   },
   "outputs": [
    {
     "data": {
      "image/jpeg": "[encoded data removed]",
      "text/plain": [
       "<IPython.core.display.Image object>"
      ]
     },
     "execution_count": 34,
     "metadata": {},
     "output_type": "execute_result"
    }
   ],
   "source": [
    "from IPython.display import Image\n",
    "\n",
    "image_path = os.path.join(images_path,'small',record.path)\n",
    "\n",
    "Image(image_path)"
   ]
  },
  {
   "cell_type": "code",
   "execution_count": 35,
   "metadata": {
    "tags": []
   },
   "outputs": [],
   "source": [
    "new_dir_path = os.path.join(images_path, 'phone_cases')"
   ]
  },
  {
   "cell_type": "code",
   "execution_count": 36,
   "metadata": {
    "tags": []
   },
   "outputs": [],
   "source": [
    "os.makedirs(new_dir_path, exist_ok=True)"
   ]
  },
  {
   "cell_type": "code",
   "execution_count": 51,
   "metadata": {
    "tags": []
   },
   "outputs": [
    {
     "name": "stderr",
     "output_type": "stream",
     "text": [
      "Copying and organizing images:  69%|██████▉   | 37713/54815 [00:18<00:08, 2003.63it/s]\n"
     ]
    },
    {
     "ename": "KeyboardInterrupt",
     "evalue": "",
     "output_type": "error",
     "traceback": [
      "\u001b[1;31m---------------------------------------------------------------------------\u001b[0m",
      "\u001b[1;31mFileExistsError\u001b[0m                           Traceback (most recent call last)",
      "File \u001b[1;32mD:\\Anaconda\\envs\\tf-gpu\\lib\\os.py:225\u001b[0m, in \u001b[0;36mmakedirs\u001b[1;34m(name, mode, exist_ok)\u001b[0m\n\u001b[0;32m    224\u001b[0m \u001b[38;5;28;01mtry\u001b[39;00m:\n\u001b[1;32m--> 225\u001b[0m     \u001b[43mmkdir\u001b[49m\u001b[43m(\u001b[49m\u001b[43mname\u001b[49m\u001b[43m,\u001b[49m\u001b[43m \u001b[49m\u001b[43mmode\u001b[49m\u001b[43m)\u001b[49m\n\u001b[0;32m    226\u001b[0m \u001b[38;5;28;01mexcept\u001b[39;00m \u001b[38;5;167;01mOSError\u001b[39;00m:\n\u001b[0;32m    227\u001b[0m     \u001b[38;5;66;03m# Cannot rely on checking for EEXIST, since the operating system\u001b[39;00m\n\u001b[0;32m    228\u001b[0m     \u001b[38;5;66;03m# could give priority to other errors like EACCES or EROFS\u001b[39;00m\n",
      "\u001b[1;31mFileExistsError\u001b[0m: [WinError 183] Cannot create a file when that file already exists: 'D:\\\\abo\\\\images\\\\phone_cases\\\\vivo'",
      "\nDuring handling of the above exception, another exception occurred:\n",
      "\u001b[1;31mKeyboardInterrupt\u001b[0m                         Traceback (most recent call last)",
      "Cell \u001b[1;32mIn[51], line 13\u001b[0m\n\u001b[0;32m     10\u001b[0m \u001b[38;5;28;01mfor\u001b[39;00m index, row \u001b[38;5;129;01min\u001b[39;00m tqdm(image_metadata_df_2200x1879\u001b[38;5;241m.\u001b[39miterrows(), total\u001b[38;5;241m=\u001b[39m\u001b[38;5;28mlen\u001b[39m(image_metadata_df_2200x1879), desc\u001b[38;5;241m=\u001b[39m\u001b[38;5;124m'\u001b[39m\u001b[38;5;124mCopying and organizing images\u001b[39m\u001b[38;5;124m'\u001b[39m):\n\u001b[0;32m     11\u001b[0m     \u001b[38;5;66;03m# Get the phone brand and create a subdirectory for it\u001b[39;00m\n\u001b[0;32m     12\u001b[0m     phone_brand_dir \u001b[38;5;241m=\u001b[39m os\u001b[38;5;241m.\u001b[39mpath\u001b[38;5;241m.\u001b[39mjoin(new_dir_path, row[\u001b[38;5;124m'\u001b[39m\u001b[38;5;124mphone_brand\u001b[39m\u001b[38;5;124m'\u001b[39m])\n\u001b[1;32m---> 13\u001b[0m     \u001b[43mos\u001b[49m\u001b[38;5;241;43m.\u001b[39;49m\u001b[43mmakedirs\u001b[49m\u001b[43m(\u001b[49m\u001b[43mphone_brand_dir\u001b[49m\u001b[43m,\u001b[49m\u001b[43m \u001b[49m\u001b[43mexist_ok\u001b[49m\u001b[38;5;241;43m=\u001b[39;49m\u001b[38;5;28;43;01mTrue\u001b[39;49;00m\u001b[43m)\u001b[49m\n\u001b[0;32m     15\u001b[0m     path_splited \u001b[38;5;241m=\u001b[39m row[\u001b[38;5;124m'\u001b[39m\u001b[38;5;124mpath\u001b[39m\u001b[38;5;124m'\u001b[39m]\u001b[38;5;241m.\u001b[39msplit(\u001b[38;5;124m'\u001b[39m\u001b[38;5;124m/\u001b[39m\u001b[38;5;124m'\u001b[39m)\n\u001b[0;32m     16\u001b[0m     last_path \u001b[38;5;241m=\u001b[39m path_splited[\u001b[38;5;241m1\u001b[39m]\n",
      "File \u001b[1;32mD:\\Anaconda\\envs\\tf-gpu\\lib\\os.py:229\u001b[0m, in \u001b[0;36mmakedirs\u001b[1;34m(name, mode, exist_ok)\u001b[0m\n\u001b[0;32m    225\u001b[0m     mkdir(name, mode)\n\u001b[0;32m    226\u001b[0m \u001b[38;5;28;01mexcept\u001b[39;00m \u001b[38;5;167;01mOSError\u001b[39;00m:\n\u001b[0;32m    227\u001b[0m     \u001b[38;5;66;03m# Cannot rely on checking for EEXIST, since the operating system\u001b[39;00m\n\u001b[0;32m    228\u001b[0m     \u001b[38;5;66;03m# could give priority to other errors like EACCES or EROFS\u001b[39;00m\n\u001b[1;32m--> 229\u001b[0m     \u001b[38;5;28;01mif\u001b[39;00m \u001b[38;5;129;01mnot\u001b[39;00m exist_ok \u001b[38;5;129;01mor\u001b[39;00m \u001b[38;5;129;01mnot\u001b[39;00m \u001b[43mpath\u001b[49m\u001b[38;5;241;43m.\u001b[39;49m\u001b[43misdir\u001b[49m\u001b[43m(\u001b[49m\u001b[43mname\u001b[49m\u001b[43m)\u001b[49m:\n\u001b[0;32m    230\u001b[0m         \u001b[38;5;28;01mraise\u001b[39;00m\n",
      "File \u001b[1;32mD:\\Anaconda\\envs\\tf-gpu\\lib\\genericpath.py:42\u001b[0m, in \u001b[0;36misdir\u001b[1;34m(s)\u001b[0m\n\u001b[0;32m     40\u001b[0m \u001b[38;5;250m\u001b[39m\u001b[38;5;124;03m\"\"\"Return true if the pathname refers to an existing directory.\"\"\"\u001b[39;00m\n\u001b[0;32m     41\u001b[0m \u001b[38;5;28;01mtry\u001b[39;00m:\n\u001b[1;32m---> 42\u001b[0m     st \u001b[38;5;241m=\u001b[39m \u001b[43mos\u001b[49m\u001b[38;5;241;43m.\u001b[39;49m\u001b[43mstat\u001b[49m\u001b[43m(\u001b[49m\u001b[43ms\u001b[49m\u001b[43m)\u001b[49m\n\u001b[0;32m     43\u001b[0m \u001b[38;5;28;01mexcept\u001b[39;00m (\u001b[38;5;167;01mOSError\u001b[39;00m, \u001b[38;5;167;01mValueError\u001b[39;00m):\n\u001b[0;32m     44\u001b[0m     \u001b[38;5;28;01mreturn\u001b[39;00m \u001b[38;5;28;01mFalse\u001b[39;00m\n",
      "\u001b[1;31mKeyboardInterrupt\u001b[0m: "
     ]
    }
   ],
   "source": [
    "import os\n",
    "import shutil\n",
    "import pandas as pd\n",
    "from tqdm import tqdm\n",
    "\n",
    "# Create the new directory if it doesn't exist\n",
    "os.makedirs(new_dir_path, exist_ok=True)\n",
    "\n",
    "# Iterate through each row in the DataFrame with a progress bar\n",
    "for index, row in tqdm(image_metadata_df_2200x1879.iterrows(), total=len(image_metadata_df_2200x1879), desc='Copying and organizing images'):\n",
    "    # Get the phone brand and create a subdirectory for it\n",
    "    phone_brand_dir = os.path.join(new_dir_path, row['phone_brand'])\n",
    "    os.makedirs(phone_brand_dir, exist_ok=True)\n",
    "    \n",
    "    path_splited = row['path'].split('/')\n",
    "    last_path = path_splited[1]\n",
    "\n",
    "    # Build the source file path\n",
    "    src_path = os.path.join(images_path,'small',row['path'])\n",
    "    \n",
    "    # Build the destination file path\n",
    "    dst_path = os.path.join(phone_brand_dir, last_path)\n",
    "    \n",
    "    # Check if the file already exists at the destination path\n",
    "    if not os.path.exists(dst_path):\n",
    "        # Check if the source file exists\n",
    "        if os.path.exists(src_path):\n",
    "            # Copy the file to the subdirectory if the source file exists and the destination file doesn't\n",
    "            shutil.copy(src_path, dst_path)\n",
    "    #     else:\n",
    "    #         print(f'Source file not found: {src_path}')\n",
    "    # else:\n",
    "    #     print(f'file already exists')\n",
    "\n",
    "\n",
    "phone_cases_path = new_dir_path"
   ]
  },
  {
   "cell_type": "code",
   "execution_count": 41,
   "metadata": {
    "tags": []
   },
   "outputs": [
    {
     "name": "stdout",
     "output_type": "stream",
     "text": [
      "Found 54659 files belonging to 49 classes.\n"
     ]
    },
    {
     "data": {
      "text/plain": [
       "<BatchDataset shapes: ((None, 224, 224, 3), (None,)), types: (tf.float32, tf.int32)>"
      ]
     },
     "execution_count": 41,
     "metadata": {},
     "output_type": "execute_result"
    }
   ],
   "source": [
    "import tensorflow as tf\n",
    "\n",
    "dims = (224, 224)\n",
    "\n",
    "batch_size = 32\n",
    "\n",
    "dataset = tf.keras.preprocessing.image_dataset_from_directory(\n",
    "    directory=new_dir_path,\n",
    "    labels='inferred',\n",
    "    label_mode='int', \n",
    "    image_size= dims,\n",
    "    batch_size=batch_size\n",
    ")\n",
    "\n",
    "dataset"
   ]
  },
  {
   "cell_type": "code",
   "execution_count": 42,
   "metadata": {},
   "outputs": [],
   "source": [
    "base_model = tf.keras.applications.MobileNetV2(input_shape=dims + (3,),\n",
    "                                               include_top=False,\n",
    "                                               weights='imagenet')\n",
    "base_model.trainable = False  # Freeze the base model\n"
   ]
  },
  {
   "cell_type": "code",
   "execution_count": 54,
   "metadata": {
    "tags": []
   },
   "outputs": [
    {
     "name": "stdout",
     "output_type": "stream",
     "text": [
      "Model: \"sequential_2\"\n",
      "_________________________________________________________________\n",
      "Layer (type)                 Output Shape              Param #   \n",
      "=================================================================\n",
      "mobilenetv2_1.00_224 (Functi (None, 7, 7, 1280)        2257984   \n",
      "_________________________________________________________________\n",
      "flatten (Flatten)            (None, 62720)             0         \n",
      "_________________________________________________________________\n",
      "dense_4 (Dense)              (None, 256)               16056576  \n",
      "_________________________________________________________________\n",
      "dropout (Dropout)            (None, 256)               0         \n",
      "_________________________________________________________________\n",
      "dense_5 (Dense)              (None, 256)               65792     \n",
      "_________________________________________________________________\n",
      "dropout_1 (Dropout)          (None, 256)               0         \n",
      "_________________________________________________________________\n",
      "dense_6 (Dense)              (None, 49)                12593     \n",
      "=================================================================\n",
      "Total params: 18,392,945\n",
      "Trainable params: 16,134,961\n",
      "Non-trainable params: 2,257,984\n",
      "_________________________________________________________________\n"
     ]
    }
   ],
   "source": [
    "from tensorflow import keras\n",
    "\n",
    "model = tf.keras.Sequential([\n",
    "    base_model,\n",
    "    keras.layers.Flatten(),\n",
    "    keras.layers.Dense(256, activation='relu'),\n",
    "    keras.layers.Dropout(0.5),\n",
    "    keras.layers.Dense(256, activation='relu'),\n",
    "    keras.layers.Dropout(0.5),\n",
    "    tf.keras.layers.Dense(49, activation='softmax')  # Assuming there are 49 classes as per your dataset\n",
    "])\n",
    "model.summary()"
   ]
  },
  {
   "cell_type": "code",
   "execution_count": 55,
   "metadata": {
    "tags": []
   },
   "outputs": [],
   "source": [
    "model.compile(optimizer=tf.keras.optimizers.Adam(),\n",
    "              loss=tf.keras.losses.SparseCategoricalCrossentropy(),\n",
    "              metrics=['accuracy'])\n"
   ]
  },
  {
   "cell_type": "code",
   "execution_count": 56,
   "metadata": {
    "tags": []
   },
   "outputs": [],
   "source": [
    "tf.random.set_seed(1)\n",
    "\n",
    "train_dataset = dataset.take(int(0.8 * len(dataset)))  # 80% for training\n",
    "val_dataset = dataset.skip(int(0.8 * len(dataset)))  # 20% for validation\n"
   ]
  },
  {
   "cell_type": "code",
   "execution_count": 57,
   "metadata": {
    "tags": []
   },
   "outputs": [
    {
     "data": {
      "text/plain": [
       "[PhysicalDevice(name='/physical_device:GPU:0', device_type='GPU')]"
      ]
     },
     "execution_count": 57,
     "metadata": {},
     "output_type": "execute_result"
    }
   ],
   "source": [
    "tf.config.list_physical_devices('GPU')\n"
   ]
  },
  {
   "cell_type": "code",
   "execution_count": 63,
   "metadata": {
    "tags": []
   },
   "outputs": [
    {
     "name": "stdout",
     "output_type": "stream",
     "text": [
      "Epoch 1/5\n",
      "1367/1367 [==============================] - 498s 363ms/step - loss: 3.1105 - accuracy: 0.1889 - val_loss: 3.0853 - val_accuracy: 0.1873\n",
      "Epoch 2/5\n",
      "1030/1367 [=====================>........] - ETA: 25s - loss: 3.1054 - accuracy: 0.1874"
     ]
    },
    {
     "ename": "KeyboardInterrupt",
     "evalue": "",
     "output_type": "error",
     "traceback": [
      "\u001b[1;31m---------------------------------------------------------------------------\u001b[0m",
      "\u001b[1;31mKeyboardInterrupt\u001b[0m                         Traceback (most recent call last)",
      "Cell \u001b[1;32mIn[63], line 1\u001b[0m\n\u001b[1;32m----> 1\u001b[0m history \u001b[38;5;241m=\u001b[39m \u001b[43mmodel\u001b[49m\u001b[38;5;241;43m.\u001b[39;49m\u001b[43mfit\u001b[49m\u001b[43m(\u001b[49m\u001b[43mtrain_dataset\u001b[49m\u001b[43m,\u001b[49m\n\u001b[0;32m      2\u001b[0m \u001b[43m                    \u001b[49m\u001b[43mvalidation_data\u001b[49m\u001b[38;5;241;43m=\u001b[39;49m\u001b[43mval_dataset\u001b[49m\u001b[43m,\u001b[49m\n\u001b[0;32m      3\u001b[0m \u001b[43m                    \u001b[49m\u001b[43mepochs\u001b[49m\u001b[38;5;241;43m=\u001b[39;49m\u001b[38;5;241;43m5\u001b[39;49m\u001b[43m)\u001b[49m\n",
      "File \u001b[1;32mD:\\Anaconda\\envs\\tf-gpu\\lib\\site-packages\\keras\\engine\\training.py:1184\u001b[0m, in \u001b[0;36mModel.fit\u001b[1;34m(self, x, y, batch_size, epochs, verbose, callbacks, validation_split, validation_data, shuffle, class_weight, sample_weight, initial_epoch, steps_per_epoch, validation_steps, validation_batch_size, validation_freq, max_queue_size, workers, use_multiprocessing)\u001b[0m\n\u001b[0;32m   1177\u001b[0m \u001b[38;5;28;01mwith\u001b[39;00m tf\u001b[38;5;241m.\u001b[39mprofiler\u001b[38;5;241m.\u001b[39mexperimental\u001b[38;5;241m.\u001b[39mTrace(\n\u001b[0;32m   1178\u001b[0m     \u001b[38;5;124m'\u001b[39m\u001b[38;5;124mtrain\u001b[39m\u001b[38;5;124m'\u001b[39m,\n\u001b[0;32m   1179\u001b[0m     epoch_num\u001b[38;5;241m=\u001b[39mepoch,\n\u001b[0;32m   1180\u001b[0m     step_num\u001b[38;5;241m=\u001b[39mstep,\n\u001b[0;32m   1181\u001b[0m     batch_size\u001b[38;5;241m=\u001b[39mbatch_size,\n\u001b[0;32m   1182\u001b[0m     _r\u001b[38;5;241m=\u001b[39m\u001b[38;5;241m1\u001b[39m):\n\u001b[0;32m   1183\u001b[0m   callbacks\u001b[38;5;241m.\u001b[39mon_train_batch_begin(step)\n\u001b[1;32m-> 1184\u001b[0m   tmp_logs \u001b[38;5;241m=\u001b[39m \u001b[38;5;28;43mself\u001b[39;49m\u001b[38;5;241;43m.\u001b[39;49m\u001b[43mtrain_function\u001b[49m\u001b[43m(\u001b[49m\u001b[43miterator\u001b[49m\u001b[43m)\u001b[49m\n\u001b[0;32m   1185\u001b[0m   \u001b[38;5;28;01mif\u001b[39;00m data_handler\u001b[38;5;241m.\u001b[39mshould_sync:\n\u001b[0;32m   1186\u001b[0m     context\u001b[38;5;241m.\u001b[39masync_wait()\n",
      "File \u001b[1;32mD:\\Anaconda\\envs\\tf-gpu\\lib\\site-packages\\tensorflow\\python\\eager\\def_function.py:885\u001b[0m, in \u001b[0;36mFunction.__call__\u001b[1;34m(self, *args, **kwds)\u001b[0m\n\u001b[0;32m    882\u001b[0m compiler \u001b[38;5;241m=\u001b[39m \u001b[38;5;124m\"\u001b[39m\u001b[38;5;124mxla\u001b[39m\u001b[38;5;124m\"\u001b[39m \u001b[38;5;28;01mif\u001b[39;00m \u001b[38;5;28mself\u001b[39m\u001b[38;5;241m.\u001b[39m_jit_compile \u001b[38;5;28;01melse\u001b[39;00m \u001b[38;5;124m\"\u001b[39m\u001b[38;5;124mnonXla\u001b[39m\u001b[38;5;124m\"\u001b[39m\n\u001b[0;32m    884\u001b[0m \u001b[38;5;28;01mwith\u001b[39;00m OptionalXlaContext(\u001b[38;5;28mself\u001b[39m\u001b[38;5;241m.\u001b[39m_jit_compile):\n\u001b[1;32m--> 885\u001b[0m   result \u001b[38;5;241m=\u001b[39m \u001b[38;5;28mself\u001b[39m\u001b[38;5;241m.\u001b[39m_call(\u001b[38;5;241m*\u001b[39margs, \u001b[38;5;241m*\u001b[39m\u001b[38;5;241m*\u001b[39mkwds)\n\u001b[0;32m    887\u001b[0m new_tracing_count \u001b[38;5;241m=\u001b[39m \u001b[38;5;28mself\u001b[39m\u001b[38;5;241m.\u001b[39mexperimental_get_tracing_count()\n\u001b[0;32m    888\u001b[0m without_tracing \u001b[38;5;241m=\u001b[39m (tracing_count \u001b[38;5;241m==\u001b[39m new_tracing_count)\n",
      "File \u001b[1;32mD:\\Anaconda\\envs\\tf-gpu\\lib\\site-packages\\tensorflow\\python\\eager\\def_function.py:917\u001b[0m, in \u001b[0;36mFunction._call\u001b[1;34m(self, *args, **kwds)\u001b[0m\n\u001b[0;32m    914\u001b[0m   \u001b[38;5;28mself\u001b[39m\u001b[38;5;241m.\u001b[39m_lock\u001b[38;5;241m.\u001b[39mrelease()\n\u001b[0;32m    915\u001b[0m   \u001b[38;5;66;03m# In this case we have created variables on the first call, so we run the\u001b[39;00m\n\u001b[0;32m    916\u001b[0m   \u001b[38;5;66;03m# defunned version which is guaranteed to never create variables.\u001b[39;00m\n\u001b[1;32m--> 917\u001b[0m   \u001b[38;5;28;01mreturn\u001b[39;00m \u001b[38;5;28mself\u001b[39m\u001b[38;5;241m.\u001b[39m_stateless_fn(\u001b[38;5;241m*\u001b[39margs, \u001b[38;5;241m*\u001b[39m\u001b[38;5;241m*\u001b[39mkwds)  \u001b[38;5;66;03m# pylint: disable=not-callable\u001b[39;00m\n\u001b[0;32m    918\u001b[0m \u001b[38;5;28;01melif\u001b[39;00m \u001b[38;5;28mself\u001b[39m\u001b[38;5;241m.\u001b[39m_stateful_fn \u001b[38;5;129;01mis\u001b[39;00m \u001b[38;5;129;01mnot\u001b[39;00m \u001b[38;5;28;01mNone\u001b[39;00m:\n\u001b[0;32m    919\u001b[0m   \u001b[38;5;66;03m# Release the lock early so that multiple threads can perform the call\u001b[39;00m\n\u001b[0;32m    920\u001b[0m   \u001b[38;5;66;03m# in parallel.\u001b[39;00m\n\u001b[0;32m    921\u001b[0m   \u001b[38;5;28mself\u001b[39m\u001b[38;5;241m.\u001b[39m_lock\u001b[38;5;241m.\u001b[39mrelease()\n",
      "File \u001b[1;32mD:\\Anaconda\\envs\\tf-gpu\\lib\\site-packages\\tensorflow\\python\\eager\\function.py:3039\u001b[0m, in \u001b[0;36mFunction.__call__\u001b[1;34m(self, *args, **kwargs)\u001b[0m\n\u001b[0;32m   3036\u001b[0m \u001b[38;5;28;01mwith\u001b[39;00m \u001b[38;5;28mself\u001b[39m\u001b[38;5;241m.\u001b[39m_lock:\n\u001b[0;32m   3037\u001b[0m   (graph_function,\n\u001b[0;32m   3038\u001b[0m    filtered_flat_args) \u001b[38;5;241m=\u001b[39m \u001b[38;5;28mself\u001b[39m\u001b[38;5;241m.\u001b[39m_maybe_define_function(args, kwargs)\n\u001b[1;32m-> 3039\u001b[0m \u001b[38;5;28;01mreturn\u001b[39;00m \u001b[43mgraph_function\u001b[49m\u001b[38;5;241;43m.\u001b[39;49m\u001b[43m_call_flat\u001b[49m\u001b[43m(\u001b[49m\n\u001b[0;32m   3040\u001b[0m \u001b[43m    \u001b[49m\u001b[43mfiltered_flat_args\u001b[49m\u001b[43m,\u001b[49m\u001b[43m \u001b[49m\u001b[43mcaptured_inputs\u001b[49m\u001b[38;5;241;43m=\u001b[39;49m\u001b[43mgraph_function\u001b[49m\u001b[38;5;241;43m.\u001b[39;49m\u001b[43mcaptured_inputs\u001b[49m\u001b[43m)\u001b[49m\n",
      "File \u001b[1;32mD:\\Anaconda\\envs\\tf-gpu\\lib\\site-packages\\tensorflow\\python\\eager\\function.py:1963\u001b[0m, in \u001b[0;36mConcreteFunction._call_flat\u001b[1;34m(self, args, captured_inputs, cancellation_manager)\u001b[0m\n\u001b[0;32m   1959\u001b[0m possible_gradient_type \u001b[38;5;241m=\u001b[39m gradients_util\u001b[38;5;241m.\u001b[39mPossibleTapeGradientTypes(args)\n\u001b[0;32m   1960\u001b[0m \u001b[38;5;28;01mif\u001b[39;00m (possible_gradient_type \u001b[38;5;241m==\u001b[39m gradients_util\u001b[38;5;241m.\u001b[39mPOSSIBLE_GRADIENT_TYPES_NONE\n\u001b[0;32m   1961\u001b[0m     \u001b[38;5;129;01mand\u001b[39;00m executing_eagerly):\n\u001b[0;32m   1962\u001b[0m   \u001b[38;5;66;03m# No tape is watching; skip to running the function.\u001b[39;00m\n\u001b[1;32m-> 1963\u001b[0m   \u001b[38;5;28;01mreturn\u001b[39;00m \u001b[38;5;28mself\u001b[39m\u001b[38;5;241m.\u001b[39m_build_call_outputs(\u001b[38;5;28;43mself\u001b[39;49m\u001b[38;5;241;43m.\u001b[39;49m\u001b[43m_inference_function\u001b[49m\u001b[38;5;241;43m.\u001b[39;49m\u001b[43mcall\u001b[49m\u001b[43m(\u001b[49m\n\u001b[0;32m   1964\u001b[0m \u001b[43m      \u001b[49m\u001b[43mctx\u001b[49m\u001b[43m,\u001b[49m\u001b[43m \u001b[49m\u001b[43margs\u001b[49m\u001b[43m,\u001b[49m\u001b[43m \u001b[49m\u001b[43mcancellation_manager\u001b[49m\u001b[38;5;241;43m=\u001b[39;49m\u001b[43mcancellation_manager\u001b[49m\u001b[43m)\u001b[49m)\n\u001b[0;32m   1965\u001b[0m forward_backward \u001b[38;5;241m=\u001b[39m \u001b[38;5;28mself\u001b[39m\u001b[38;5;241m.\u001b[39m_select_forward_and_backward_functions(\n\u001b[0;32m   1966\u001b[0m     args,\n\u001b[0;32m   1967\u001b[0m     possible_gradient_type,\n\u001b[0;32m   1968\u001b[0m     executing_eagerly)\n\u001b[0;32m   1969\u001b[0m forward_function, args_with_tangents \u001b[38;5;241m=\u001b[39m forward_backward\u001b[38;5;241m.\u001b[39mforward()\n",
      "File \u001b[1;32mD:\\Anaconda\\envs\\tf-gpu\\lib\\site-packages\\tensorflow\\python\\eager\\function.py:591\u001b[0m, in \u001b[0;36m_EagerDefinedFunction.call\u001b[1;34m(self, ctx, args, cancellation_manager)\u001b[0m\n\u001b[0;32m    589\u001b[0m \u001b[38;5;28;01mwith\u001b[39;00m _InterpolateFunctionError(\u001b[38;5;28mself\u001b[39m):\n\u001b[0;32m    590\u001b[0m   \u001b[38;5;28;01mif\u001b[39;00m cancellation_manager \u001b[38;5;129;01mis\u001b[39;00m \u001b[38;5;28;01mNone\u001b[39;00m:\n\u001b[1;32m--> 591\u001b[0m     outputs \u001b[38;5;241m=\u001b[39m \u001b[43mexecute\u001b[49m\u001b[38;5;241;43m.\u001b[39;49m\u001b[43mexecute\u001b[49m\u001b[43m(\u001b[49m\n\u001b[0;32m    592\u001b[0m \u001b[43m        \u001b[49m\u001b[38;5;28;43mstr\u001b[39;49m\u001b[43m(\u001b[49m\u001b[38;5;28;43mself\u001b[39;49m\u001b[38;5;241;43m.\u001b[39;49m\u001b[43msignature\u001b[49m\u001b[38;5;241;43m.\u001b[39;49m\u001b[43mname\u001b[49m\u001b[43m)\u001b[49m\u001b[43m,\u001b[49m\n\u001b[0;32m    593\u001b[0m \u001b[43m        \u001b[49m\u001b[43mnum_outputs\u001b[49m\u001b[38;5;241;43m=\u001b[39;49m\u001b[38;5;28;43mself\u001b[39;49m\u001b[38;5;241;43m.\u001b[39;49m\u001b[43m_num_outputs\u001b[49m\u001b[43m,\u001b[49m\n\u001b[0;32m    594\u001b[0m \u001b[43m        \u001b[49m\u001b[43minputs\u001b[49m\u001b[38;5;241;43m=\u001b[39;49m\u001b[43margs\u001b[49m\u001b[43m,\u001b[49m\n\u001b[0;32m    595\u001b[0m \u001b[43m        \u001b[49m\u001b[43mattrs\u001b[49m\u001b[38;5;241;43m=\u001b[39;49m\u001b[43mattrs\u001b[49m\u001b[43m,\u001b[49m\n\u001b[0;32m    596\u001b[0m \u001b[43m        \u001b[49m\u001b[43mctx\u001b[49m\u001b[38;5;241;43m=\u001b[39;49m\u001b[43mctx\u001b[49m\u001b[43m)\u001b[49m\n\u001b[0;32m    597\u001b[0m   \u001b[38;5;28;01melse\u001b[39;00m:\n\u001b[0;32m    598\u001b[0m     outputs \u001b[38;5;241m=\u001b[39m execute\u001b[38;5;241m.\u001b[39mexecute_with_cancellation(\n\u001b[0;32m    599\u001b[0m         \u001b[38;5;28mstr\u001b[39m(\u001b[38;5;28mself\u001b[39m\u001b[38;5;241m.\u001b[39msignature\u001b[38;5;241m.\u001b[39mname),\n\u001b[0;32m    600\u001b[0m         num_outputs\u001b[38;5;241m=\u001b[39m\u001b[38;5;28mself\u001b[39m\u001b[38;5;241m.\u001b[39m_num_outputs,\n\u001b[1;32m   (...)\u001b[0m\n\u001b[0;32m    603\u001b[0m         ctx\u001b[38;5;241m=\u001b[39mctx,\n\u001b[0;32m    604\u001b[0m         cancellation_manager\u001b[38;5;241m=\u001b[39mcancellation_manager)\n",
      "File \u001b[1;32mD:\\Anaconda\\envs\\tf-gpu\\lib\\site-packages\\tensorflow\\python\\eager\\execute.py:59\u001b[0m, in \u001b[0;36mquick_execute\u001b[1;34m(op_name, num_outputs, inputs, attrs, ctx, name)\u001b[0m\n\u001b[0;32m     57\u001b[0m \u001b[38;5;28;01mtry\u001b[39;00m:\n\u001b[0;32m     58\u001b[0m   ctx\u001b[38;5;241m.\u001b[39mensure_initialized()\n\u001b[1;32m---> 59\u001b[0m   tensors \u001b[38;5;241m=\u001b[39m \u001b[43mpywrap_tfe\u001b[49m\u001b[38;5;241;43m.\u001b[39;49m\u001b[43mTFE_Py_Execute\u001b[49m\u001b[43m(\u001b[49m\u001b[43mctx\u001b[49m\u001b[38;5;241;43m.\u001b[39;49m\u001b[43m_handle\u001b[49m\u001b[43m,\u001b[49m\u001b[43m \u001b[49m\u001b[43mdevice_name\u001b[49m\u001b[43m,\u001b[49m\u001b[43m \u001b[49m\u001b[43mop_name\u001b[49m\u001b[43m,\u001b[49m\n\u001b[0;32m     60\u001b[0m \u001b[43m                                      \u001b[49m\u001b[43minputs\u001b[49m\u001b[43m,\u001b[49m\u001b[43m \u001b[49m\u001b[43mattrs\u001b[49m\u001b[43m,\u001b[49m\u001b[43m \u001b[49m\u001b[43mnum_outputs\u001b[49m\u001b[43m)\u001b[49m\n\u001b[0;32m     61\u001b[0m \u001b[38;5;28;01mexcept\u001b[39;00m core\u001b[38;5;241m.\u001b[39m_NotOkStatusException \u001b[38;5;28;01mas\u001b[39;00m e:\n\u001b[0;32m     62\u001b[0m   \u001b[38;5;28;01mif\u001b[39;00m name \u001b[38;5;129;01mis\u001b[39;00m \u001b[38;5;129;01mnot\u001b[39;00m \u001b[38;5;28;01mNone\u001b[39;00m:\n",
      "\u001b[1;31mKeyboardInterrupt\u001b[0m: "
     ]
    }
   ],
   "source": [
    "history = model.fit(train_dataset,\n",
    "                    validation_data=val_dataset,\n",
    "                    epochs=5)\n"
   ]
  },
  {
   "cell_type": "code",
   "execution_count": null,
   "metadata": {},
   "outputs": [],
   "source": []
  }
 ],
 "metadata": {
  "kernelspec": {
   "display_name": "Python 3 (ipykernel)",
   "language": "python",
   "name": "python3"
  },
  "language_info": {
   "codemirror_mode": {
    "name": "ipython",
    "version": 3
   },
   "file_extension": ".py",
   "mimetype": "text/x-python",
   "name": "python",
   "nbconvert_exporter": "python",
   "pygments_lexer": "ipython3",
   "version": "3.9.18"
  }
 },
 "nbformat": 4,
 "nbformat_minor": 4
}
