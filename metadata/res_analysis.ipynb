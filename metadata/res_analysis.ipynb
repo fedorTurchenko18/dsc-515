{
 "cells": [
  {
   "cell_type": "code",
   "execution_count": 20,
   "metadata": {},
   "outputs": [],
   "source": [
    "import pandas as pd, matplotlib.pyplot as plt"
   ]
  },
  {
   "cell_type": "code",
   "execution_count": 2,
   "metadata": {},
   "outputs": [],
   "source": [
    "images_data = pd.read_csv('images.csv')"
   ]
  },
  {
   "cell_type": "code",
   "execution_count": 3,
   "metadata": {},
   "outputs": [
    {
     "data": {
      "text/html": [
       "<div>\n",
       "<style scoped>\n",
       "    .dataframe tbody tr th:only-of-type {\n",
       "        vertical-align: middle;\n",
       "    }\n",
       "\n",
       "    .dataframe tbody tr th {\n",
       "        vertical-align: top;\n",
       "    }\n",
       "\n",
       "    .dataframe thead th {\n",
       "        text-align: right;\n",
       "    }\n",
       "</style>\n",
       "<table border=\"1\" class=\"dataframe\">\n",
       "  <thead>\n",
       "    <tr style=\"text-align: right;\">\n",
       "      <th></th>\n",
       "      <th>image_id</th>\n",
       "      <th>height</th>\n",
       "      <th>width</th>\n",
       "      <th>path</th>\n",
       "    </tr>\n",
       "  </thead>\n",
       "  <tbody>\n",
       "    <tr>\n",
       "      <th>0</th>\n",
       "      <td>010-mllS7JL</td>\n",
       "      <td>106</td>\n",
       "      <td>106</td>\n",
       "      <td>14/14fe8812.jpg</td>\n",
       "    </tr>\n",
       "    <tr>\n",
       "      <th>1</th>\n",
       "      <td>01dkn0Gyx0L</td>\n",
       "      <td>122</td>\n",
       "      <td>122</td>\n",
       "      <td>da/daab0cad.jpg</td>\n",
       "    </tr>\n",
       "    <tr>\n",
       "      <th>2</th>\n",
       "      <td>01sUPg0387L</td>\n",
       "      <td>111</td>\n",
       "      <td>111</td>\n",
       "      <td>d2/d2daaae9.jpg</td>\n",
       "    </tr>\n",
       "    <tr>\n",
       "      <th>3</th>\n",
       "      <td>1168jc-5r1L</td>\n",
       "      <td>186</td>\n",
       "      <td>186</td>\n",
       "      <td>3a/3a4e88e6.jpg</td>\n",
       "    </tr>\n",
       "    <tr>\n",
       "      <th>4</th>\n",
       "      <td>11RUV5Fs65L</td>\n",
       "      <td>30</td>\n",
       "      <td>500</td>\n",
       "      <td>d9/d91ab9cf.jpg</td>\n",
       "    </tr>\n",
       "  </tbody>\n",
       "</table>\n",
       "</div>"
      ],
      "text/plain": [
       "      image_id  height  width             path\n",
       "0  010-mllS7JL     106    106  14/14fe8812.jpg\n",
       "1  01dkn0Gyx0L     122    122  da/daab0cad.jpg\n",
       "2  01sUPg0387L     111    111  d2/d2daaae9.jpg\n",
       "3  1168jc-5r1L     186    186  3a/3a4e88e6.jpg\n",
       "4  11RUV5Fs65L      30    500  d9/d91ab9cf.jpg"
      ]
     },
     "execution_count": 3,
     "metadata": {},
     "output_type": "execute_result"
    }
   ],
   "source": [
    "images_data.head()"
   ]
  },
  {
   "cell_type": "code",
   "execution_count": 5,
   "metadata": {},
   "outputs": [
    {
     "data": {
      "text/plain": [
       "image_id    object\n",
       "height       int64\n",
       "width        int64\n",
       "path        object\n",
       "dtype: object"
      ]
     },
     "execution_count": 5,
     "metadata": {},
     "output_type": "execute_result"
    }
   ],
   "source": [
    "images_data.dtypes"
   ]
  },
  {
   "cell_type": "markdown",
   "metadata": {},
   "source": [
    "Let us filter all non-quadratic shaped images out"
   ]
  },
  {
   "cell_type": "code",
   "execution_count": 15,
   "metadata": {},
   "outputs": [
    {
     "data": {
      "text/plain": [
       "2560    45005\n",
       "1000    24945\n",
       "2000    16154\n",
       "1500    13813\n",
       "1200     7518\n",
       "        ...  \n",
       "1157        1\n",
       "1135        1\n",
       "1269        1\n",
       "1717        1\n",
       "1897        1\n",
       "Name: height, Length: 1572, dtype: int64"
      ]
     },
     "execution_count": 15,
     "metadata": {},
     "output_type": "execute_result"
    }
   ],
   "source": [
    "images_data[\n",
    "    images_data['height'] == images_data['width']\n",
    "]['height'].value_counts()"
   ]
  },
  {
   "cell_type": "markdown",
   "metadata": {},
   "source": [
    "Images of size 2560x2560 are the most common. What about both quadratic and rectangular images?"
   ]
  },
  {
   "cell_type": "code",
   "execution_count": 17,
   "metadata": {},
   "outputs": [
    {
     "data": {
      "text/plain": [
       "2200x1879    92513\n",
       "2560x2560    45005\n",
       "1000x1000    24945\n",
       "2000x2000    16154\n",
       "1500x1500    13813\n",
       "             ...  \n",
       "2086x1941        1\n",
       "1137x2529        1\n",
       "1230x754         1\n",
       "883x2375         1\n",
       "2372x2397        1\n",
       "Length: 45719, dtype: int64"
      ]
     },
     "execution_count": 17,
     "metadata": {},
     "output_type": "execute_result"
    }
   ],
   "source": [
    "(images_data['height'].astype(str) + 'x' + images_data['width'].astype(str)).value_counts()"
   ]
  },
  {
   "cell_type": "markdown",
   "metadata": {},
   "source": [
    "There are about 2x more images with the 2200x1879 resolution compared to the 2560x2560. However, how many various values for height and width do we have in general?"
   ]
  },
  {
   "cell_type": "code",
   "execution_count": 23,
   "metadata": {},
   "outputs": [
    {
     "data": {
      "text/plain": [
       "<AxesSubplot:title={'center':'Width'}, ylabel='Frequency'>"
      ]
     },
     "execution_count": 23,
     "metadata": {},
     "output_type": "execute_result"
    },
    {
     "data": {
      "image/png": "[encoded data removed]",
      "text/plain": [
       "<Figure size 1200x400 with 2 Axes>"
      ]
     },
     "metadata": {},
     "output_type": "display_data"
    }
   ],
   "source": [
    "fig, (ax1, ax2) = plt.subplots(1, 2, figsize=(12, 4))\n",
    "\n",
    "images_data.plot(kind='hist', x='height', ax=ax1, title='Height')\n",
    "images_data.plot(kind='hist', x='width', ax=ax2, title='Width')"
   ]
  },
  {
   "cell_type": "markdown",
   "metadata": {},
   "source": [
    "Evidently, we have both quite small and large images as well. Since the data is this diverse, we should decide upon a uniform resolution for our images:\n",
    "\n",
    "1. 2200x1879 (92513 images)\n",
    "2. 2560x2560 (45005 images)"
   ]
  },
  {
   "cell_type": "code",
   "execution_count": null,
   "metadata": {},
   "outputs": [],
   "source": []
  }
 ],
 "metadata": {
  "kernelspec": {
   "display_name": "Python 3",
   "language": "python",
   "name": "python3"
  },
  "language_info": {
   "codemirror_mode": {
    "name": "ipython",
    "version": 3
   },
   "file_extension": ".py",
   "mimetype": "text/x-python",
   "name": "python",
   "nbconvert_exporter": "python",
   "pygments_lexer": "ipython3",
   "version": "3.10.12"
  },
  "orig_nbformat": 4
 },
 "nbformat": 4,
 "nbformat_minor": 2
}
