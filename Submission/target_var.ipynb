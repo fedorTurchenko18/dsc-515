{
 "cells": [
  {
   "cell_type": "markdown",
   "metadata": {},
   "source": [
    "# Imports"
   ]
  },
  {
   "cell_type": "code",
   "execution_count": 1,
   "metadata": {},
   "outputs": [
    {
     "name": "stderr",
     "output_type": "stream",
     "text": [
      "/opt/homebrew/lib/python3.10/site-packages/umap/distances.py:1063: NumbaDeprecationWarning: The 'nopython' keyword argument was not supplied to the 'numba.jit' decorator. The implicit default value for this argument is currently False, but it will be changed to True in Numba 0.59.0. See https://numba.readthedocs.io/en/stable/reference/deprecation.html#deprecation-of-object-mode-fall-back-behaviour-when-using-jit for details.\n",
      "  @numba.jit()\n",
      "/opt/homebrew/lib/python3.10/site-packages/umap/distances.py:1071: NumbaDeprecationWarning: The 'nopython' keyword argument was not supplied to the 'numba.jit' decorator. The implicit default value for this argument is currently False, but it will be changed to True in Numba 0.59.0. See https://numba.readthedocs.io/en/stable/reference/deprecation.html#deprecation-of-object-mode-fall-back-behaviour-when-using-jit for details.\n",
      "  @numba.jit()\n",
      "/opt/homebrew/lib/python3.10/site-packages/umap/distances.py:1086: NumbaDeprecationWarning: The 'nopython' keyword argument was not supplied to the 'numba.jit' decorator. The implicit default value for this argument is currently False, but it will be changed to True in Numba 0.59.0. See https://numba.readthedocs.io/en/stable/reference/deprecation.html#deprecation-of-object-mode-fall-back-behaviour-when-using-jit for details.\n",
      "  @numba.jit()\n",
      "/opt/homebrew/lib/python3.10/site-packages/umap/umap_.py:660: NumbaDeprecationWarning: The 'nopython' keyword argument was not supplied to the 'numba.jit' decorator. The implicit default value for this argument is currently False, but it will be changed to True in Numba 0.59.0. See https://numba.readthedocs.io/en/stable/reference/deprecation.html#deprecation-of-object-mode-fall-back-behaviour-when-using-jit for details.\n",
      "  @numba.jit()\n"
     ]
    }
   ],
   "source": [
    "import pandas as pd, matplotlib.pyplot as plt, gzip, json, os, string, nltk, joblib, pickle, tarfile, shutil\n",
    "from nltk.tokenize import word_tokenize\n",
    "from bertopic import BERTopic\n",
    "from top2vec import Top2Vec\n",
    "from huggingface_hub import login, logout, hf_hub_download, HfApi, CommitOperationAdd\n",
    "from dotenv import load_dotenv\n",
    "from datasets import load_dataset"
   ]
  },
  {
   "cell_type": "markdown",
   "metadata": {},
   "source": [
    "# Images Resolution Analysis"
   ]
  },
  {
   "cell_type": "code",
   "execution_count": 2,
   "metadata": {},
   "outputs": [],
   "source": [
    "images_data = pd.read_csv('images.csv')"
   ]
  },
  {
   "cell_type": "code",
   "execution_count": 3,
   "metadata": {},
   "outputs": [
    {
     "data": {
      "text/html": [
       "<div>\n",
       "<style scoped>\n",
       "    .dataframe tbody tr th:only-of-type {\n",
       "        vertical-align: middle;\n",
       "    }\n",
       "\n",
       "    .dataframe tbody tr th {\n",
       "        vertical-align: top;\n",
       "    }\n",
       "\n",
       "    .dataframe thead th {\n",
       "        text-align: right;\n",
       "    }\n",
       "</style>\n",
       "<table border=\"1\" class=\"dataframe\">\n",
       "  <thead>\n",
       "    <tr style=\"text-align: right;\">\n",
       "      <th></th>\n",
       "      <th>image_id</th>\n",
       "      <th>height</th>\n",
       "      <th>width</th>\n",
       "      <th>path</th>\n",
       "    </tr>\n",
       "  </thead>\n",
       "  <tbody>\n",
       "    <tr>\n",
       "      <th>0</th>\n",
       "      <td>010-mllS7JL</td>\n",
       "      <td>106</td>\n",
       "      <td>106</td>\n",
       "      <td>14/14fe8812.jpg</td>\n",
       "    </tr>\n",
       "    <tr>\n",
       "      <th>1</th>\n",
       "      <td>01dkn0Gyx0L</td>\n",
       "      <td>122</td>\n",
       "      <td>122</td>\n",
       "      <td>da/daab0cad.jpg</td>\n",
       "    </tr>\n",
       "    <tr>\n",
       "      <th>2</th>\n",
       "      <td>01sUPg0387L</td>\n",
       "      <td>111</td>\n",
       "      <td>111</td>\n",
       "      <td>d2/d2daaae9.jpg</td>\n",
       "    </tr>\n",
       "    <tr>\n",
       "      <th>3</th>\n",
       "      <td>1168jc-5r1L</td>\n",
       "      <td>186</td>\n",
       "      <td>186</td>\n",
       "      <td>3a/3a4e88e6.jpg</td>\n",
       "    </tr>\n",
       "    <tr>\n",
       "      <th>4</th>\n",
       "      <td>11RUV5Fs65L</td>\n",
       "      <td>30</td>\n",
       "      <td>500</td>\n",
       "      <td>d9/d91ab9cf.jpg</td>\n",
       "    </tr>\n",
       "  </tbody>\n",
       "</table>\n",
       "</div>"
      ],
      "text/plain": [
       "      image_id  height  width             path\n",
       "0  010-mllS7JL     106    106  14/14fe8812.jpg\n",
       "1  01dkn0Gyx0L     122    122  da/daab0cad.jpg\n",
       "2  01sUPg0387L     111    111  d2/d2daaae9.jpg\n",
       "3  1168jc-5r1L     186    186  3a/3a4e88e6.jpg\n",
       "4  11RUV5Fs65L      30    500  d9/d91ab9cf.jpg"
      ]
     },
     "execution_count": 3,
     "metadata": {},
     "output_type": "execute_result"
    }
   ],
   "source": [
    "images_data.head()"
   ]
  },
  {
   "cell_type": "code",
   "execution_count": 4,
   "metadata": {},
   "outputs": [
    {
     "data": {
      "text/plain": [
       "image_id    object\n",
       "height       int64\n",
       "width        int64\n",
       "path        object\n",
       "dtype: object"
      ]
     },
     "execution_count": 4,
     "metadata": {},
     "output_type": "execute_result"
    }
   ],
   "source": [
    "images_data.dtypes"
   ]
  },
  {
   "cell_type": "markdown",
   "metadata": {},
   "source": [
    "Let us filter all non-quadratic shaped images out"
   ]
  },
  {
   "cell_type": "code",
   "execution_count": 5,
   "metadata": {},
   "outputs": [
    {
     "data": {
      "text/plain": [
       "2560    45005\n",
       "1000    24945\n",
       "2000    16154\n",
       "1500    13813\n",
       "1200     7518\n",
       "        ...  \n",
       "1157        1\n",
       "1135        1\n",
       "1269        1\n",
       "1717        1\n",
       "1897        1\n",
       "Name: height, Length: 1572, dtype: int64"
      ]
     },
     "execution_count": 5,
     "metadata": {},
     "output_type": "execute_result"
    }
   ],
   "source": [
    "images_data[\n",
    "    images_data['height'] == images_data['width']\n",
    "]['height'].value_counts()"
   ]
  },
  {
   "cell_type": "markdown",
   "metadata": {},
   "source": [
    "Images of size 2560x2560 are the most common. What about both quadratic and rectangular images?"
   ]
  },
  {
   "cell_type": "code",
   "execution_count": 6,
   "metadata": {},
   "outputs": [
    {
     "data": {
      "text/plain": [
       "2200x1879    92513\n",
       "2560x2560    45005\n",
       "1000x1000    24945\n",
       "2000x2000    16154\n",
       "1500x1500    13813\n",
       "             ...  \n",
       "2086x1941        1\n",
       "1137x2529        1\n",
       "1230x754         1\n",
       "883x2375         1\n",
       "2372x2397        1\n",
       "Length: 45719, dtype: int64"
      ]
     },
     "execution_count": 6,
     "metadata": {},
     "output_type": "execute_result"
    }
   ],
   "source": [
    "(images_data['height'].astype(str) + 'x' + images_data['width'].astype(str)).value_counts()"
   ]
  },
  {
   "cell_type": "markdown",
   "metadata": {},
   "source": [
    "There are about 2x more images with the 2200x1879 resolution compared to the 2560x2560. However, how many various values for height and width do we have in general?"
   ]
  },
  {
   "cell_type": "code",
   "execution_count": 7,
   "metadata": {},
   "outputs": [
    {
     "data": {
      "text/plain": [
       "<AxesSubplot:title={'center':'Width'}, ylabel='Frequency'>"
      ]
     },
     "execution_count": 7,
     "metadata": {},
     "output_type": "execute_result"
    },
    {
     "data": {
      "image/png": "[encoded data removed]",
      "text/plain": [
       "<Figure size 1200x400 with 2 Axes>"
      ]
     },
     "metadata": {},
     "output_type": "display_data"
    }
   ],
   "source": [
    "fig, (ax1, ax2) = plt.subplots(1, 2, figsize=(12, 4))\n",
    "\n",
    "images_data.plot(kind='hist', x='height', ax=ax1, title='Height')\n",
    "images_data.plot(kind='hist', x='width', ax=ax2, title='Width')"
   ]
  },
  {
   "cell_type": "markdown",
   "metadata": {},
   "source": [
    "Evidently, we have both quite small and large images as well. Since the data is this diverse, we should decide upon a uniform resolution for our images:\n",
    "\n",
    "1. 2200x1879 (92513 images)\n",
    "2. 2560x2560 (45005 images)"
   ]
  },
  {
   "cell_type": "code",
   "execution_count": 8,
   "metadata": {},
   "outputs": [],
   "source": [
    "# 2200x1879\n",
    "images_2200x1879 = images_data[\n",
    "    (images_data['height'] == 2200) &\n",
    "    (images_data['width'] == 1879)\n",
    "]"
   ]
  },
  {
   "cell_type": "markdown",
   "metadata": {},
   "source": [
    "# Images Metadata Parsing"
   ]
  },
  {
   "cell_type": "markdown",
   "metadata": {},
   "source": [
    "First, let us extract the category for (ideally) each image. We will create a list of dictionaries:\n",
    "```\n",
    "[\n",
    "    {\"image_id\": \"category},\n",
    "    ...\n",
    "]\n",
    "```"
   ]
  },
  {
   "cell_type": "code",
   "execution_count": 9,
   "metadata": {},
   "outputs": [],
   "source": [
    "gz_files = os.listdir('metadata')\n",
    "gz_files = [i for i in gz_files if i != '.DS_Store']\n",
    "\n",
    "image_metadata = []\n",
    "\n",
    "for f in gz_files:\n",
    "    with gzip.open(f'metadata/{f}', \"rt\", encoding='utf-8') as gz_file:\n",
    "        gz_data = gz_file.read()\n",
    "        gz_data_list = gz_data.split('\\n')\n",
    "        \n",
    "        # need to parse line by line, otherwise there is an error\n",
    "        for line in gz_data_list[:-1]:\n",
    "            data = json.loads(line)\n",
    "            try:\n",
    "                image_metadata.append(\n",
    "                    {\n",
    "                        data['main_image_id']: [\n",
    "                            data['product_type'][0]['value'],\n",
    "                            data['model_name'][0]['value'],\n",
    "                            data['brand'][0]['value'],\n",
    "                            data['country'],\n",
    "                            data['item_name'][0]['value'],\n",
    "                            data['marketplace'],\n",
    "                        ]\n",
    "                    }\n",
    "                )\n",
    "                # can get more other info, see README.md for details\n",
    "            except KeyError:\n",
    "                pass"
   ]
  },
  {
   "cell_type": "code",
   "execution_count": 10,
   "metadata": {},
   "outputs": [],
   "source": [
    "image_metadata_df = pd.DataFrame(\n",
    "    {\n",
    "        'image_id': [list(i.keys())[0] for i in image_metadata],\n",
    "        'category': [list(i.values())[0][0] for i in image_metadata],\n",
    "        'model_name': [list(i.values())[0][1] for i in image_metadata],\n",
    "        'brand': [list(i.values())[0][2] for i in image_metadata],\n",
    "        'country': [list(i.values())[0][3] for i in image_metadata],\n",
    "        'item_name': [list(i.values())[0][4] for i in image_metadata],\n",
    "        'marketplace': [list(i.values())[0][5] for i in image_metadata],\n",
    "    }\n",
    ")"
   ]
  },
  {
   "cell_type": "code",
   "execution_count": 11,
   "metadata": {},
   "outputs": [],
   "source": [
    "image_metadata_df_2200x1879 = image_metadata_df.merge(images_2200x1879)"
   ]
  },
  {
   "cell_type": "markdown",
   "metadata": {},
   "source": [
    "Let us see what categories we get for the images of size 2200x1879 px"
   ]
  },
  {
   "cell_type": "code",
   "execution_count": 12,
   "metadata": {},
   "outputs": [
    {
     "data": {
      "text/plain": [
       "CELLULAR_PHONE_CASE    54815\n",
       "Name: category, dtype: int64"
      ]
     },
     "execution_count": 12,
     "metadata": {},
     "output_type": "execute_result"
    }
   ],
   "source": [
    "image_metadata_df_2200x1879['category'].value_counts()"
   ]
  },
  {
   "cell_type": "markdown",
   "metadata": {},
   "source": [
    "It seems only phone cases are represented by the images of this size. Let us see what categories we have in the full dataset"
   ]
  },
  {
   "cell_type": "code",
   "execution_count": 13,
   "metadata": {},
   "outputs": [
    {
     "data": {
      "text/plain": [
       "CELLULAR_PHONE_CASE    64559\n",
       "SHOES                   7702\n",
       "BOOT                    1934\n",
       "SANDAL                  1784\n",
       "FINERING                 578\n",
       "                       ...  \n",
       "EXERCISE_MAT               1\n",
       "EXERCISE_BAND              1\n",
       "FASTENER_DRIVE_BIT         1\n",
       "AV_FURNITURE               1\n",
       "UTILITY_KNIFE              1\n",
       "Name: category, Length: 235, dtype: int64"
      ]
     },
     "execution_count": 13,
     "metadata": {},
     "output_type": "execute_result"
    }
   ],
   "source": [
    "image_metadata_df['category'].value_counts()"
   ]
  },
  {
   "cell_type": "markdown",
   "metadata": {},
   "source": [
    "All in all, phone cases is the most popular category of all the listings. I think we can reduce the problem to extracting top N similar phone cases base on the user input. Consider the following scenario:\n",
    "\n",
    "1. A user finds a nice case on Pinterest, from a friend, etc.\n",
    "2. They are obviously not sure which words to use to describe it\n",
    "3. Consequently, it becomes difficult for them to buy such a case\n",
    "4. As a solution, they can use our service, which will look similar cases up\n",
    "\n",
    "The problem is quite challenging, since the model has to be able to determine all the subtle features of the case, e.g., Hello Kitty pic, stars, flowers, etc."
   ]
  },
  {
   "cell_type": "markdown",
   "metadata": {},
   "source": [
    "# First Target Variable Option – Phone Brands"
   ]
  },
  {
   "cell_type": "markdown",
   "metadata": {},
   "source": [
    "Now we shall come up with a target variable for the CNN. Training the model to distinguish phone brands the cases are made for could be reasonable, since at the very least the model should recommend iphone cases when the user uploads an iphone case picture. Assuming the brand name comes first, let us try and extract the phone manufacturers names"
   ]
  },
  {
   "cell_type": "code",
   "execution_count": 14,
   "metadata": {},
   "outputs": [],
   "source": [
    "image_metadata_df_2200x1879['phone_brand'] = image_metadata_df_2200x1879['model_name'].\\\n",
    "    str.lower().\\\n",
    "    str.replace('\\xa0', ' ').\\\n",
    "    apply(lambda x: x[:x.find(' ')])"
   ]
  },
  {
   "cell_type": "code",
   "execution_count": 15,
   "metadata": {},
   "outputs": [
    {
     "data": {
      "text/plain": [
       "samsung          10315\n",
       "vivo              5303\n",
       "oppo              3450\n",
       "micromax          2830\n",
       "lenovo            2805\n",
       "                 ...  \n",
       "gz8579-sl4042        1\n",
       "gz8582-sl4077        1\n",
       "gz8598-sl4076        1\n",
       "gz8482-sl4080        1\n",
       "gz8482-sl4054        1\n",
       "Name: phone_brand, Length: 225, dtype: int64"
      ]
     },
     "execution_count": 15,
     "metadata": {},
     "output_type": "execute_result"
    }
   ],
   "source": [
    "image_metadata_df_2200x1879['phone_brand'].value_counts()"
   ]
  },
  {
   "cell_type": "markdown",
   "metadata": {},
   "source": [
    "There is a bunch of \"gz\" phones, we can combine them into one brand name"
   ]
  },
  {
   "cell_type": "code",
   "execution_count": 16,
   "metadata": {},
   "outputs": [],
   "source": [
    "image_metadata_df_2200x1879['phone_brand'] = image_metadata_df_2200x1879['phone_brand'].str.replace(r'^gz\\d{4}-sl\\d{4}', 'gz', regex=True)"
   ]
  },
  {
   "cell_type": "code",
   "execution_count": 17,
   "metadata": {},
   "outputs": [
    {
     "data": {
      "text/plain": [
       "samsung           10315\n",
       "vivo               5303\n",
       "oppo               3450\n",
       "micromax           2830\n",
       "lenovo             2805\n",
       "apple              2761\n",
       "motorola           2526\n",
       "gionee             2488\n",
       "lg                 2417\n",
       "huawei             2098\n",
       "nokia              2048\n",
       "asus               1844\n",
       "sony               1671\n",
       "xiaomi             1444\n",
       "mi                 1163\n",
       "oneplus            1068\n",
       "realme              955\n",
       "coolpad             794\n",
       "lyf                 641\n",
       "lava                625\n",
       "htc                 580\n",
       "infocus             520\n",
       "tecno               456\n",
       "poco                404\n",
       "panasonic           395\n",
       "microsoft           336\n",
       "itel                288\n",
       "letv                276\n",
       "moto                237\n",
       "comio               213\n",
       "gz                  191\n",
       "leeco               184\n",
       "meizu               180\n",
       "i                   177\n",
       "honor               168\n",
       "10.or               158\n",
       "karbonn             130\n",
       "infinix             124\n",
       "spice                99\n",
       "ivoomi               90\n",
       "intex                61\n",
       "mobiistar            55\n",
       "nexus                51\n",
       "ikall                46\n",
       "redmi                44\n",
       "techno               42\n",
       "lephone              30\n",
       "acer                 17\n",
       "fluo                 15\n",
       "galaxy                1\n",
       "uv10920-sl4050        1\n",
       "Name: phone_brand, dtype: int64"
      ]
     },
     "execution_count": 17,
     "metadata": {},
     "output_type": "execute_result"
    }
   ],
   "source": [
    "image_metadata_df_2200x1879['phone_brand'].value_counts()"
   ]
  },
  {
   "cell_type": "markdown",
   "metadata": {},
   "source": [
    "We have already reduced the number of classes quite significantly. However, there are also 2 categories with only 1 observation. Galaxy clearly refers to Samsung, and by googling \"uv10920\" we can find out that it is actually a [Redmi](https://www.amazon.in/Amazon-Brand-Designer-Sparkle-Printed/dp/B085S3SBM7) smartphone case"
   ]
  },
  {
   "cell_type": "code",
   "execution_count": 18,
   "metadata": {},
   "outputs": [],
   "source": [
    "image_metadata_df_2200x1879['phone_brand'] = image_metadata_df_2200x1879['phone_brand'].\\\n",
    "    str.replace('galaxy', 'samsung').\\\n",
    "    str.replace('uv10920-sl4050', 'redmi')"
   ]
  },
  {
   "cell_type": "code",
   "execution_count": 19,
   "metadata": {},
   "outputs": [
    {
     "data": {
      "text/plain": [
       "samsung      10316\n",
       "vivo          5303\n",
       "oppo          3450\n",
       "micromax      2830\n",
       "lenovo        2805\n",
       "apple         2761\n",
       "motorola      2526\n",
       "gionee        2488\n",
       "lg            2417\n",
       "huawei        2098\n",
       "nokia         2048\n",
       "asus          1844\n",
       "sony          1671\n",
       "xiaomi        1444\n",
       "mi            1163\n",
       "oneplus       1068\n",
       "realme         955\n",
       "coolpad        794\n",
       "lyf            641\n",
       "lava           625\n",
       "htc            580\n",
       "infocus        520\n",
       "tecno          456\n",
       "poco           404\n",
       "panasonic      395\n",
       "microsoft      336\n",
       "itel           288\n",
       "letv           276\n",
       "moto           237\n",
       "comio          213\n",
       "gz             191\n",
       "leeco          184\n",
       "meizu          180\n",
       "i              177\n",
       "honor          168\n",
       "10.or          158\n",
       "karbonn        130\n",
       "infinix        124\n",
       "spice           99\n",
       "ivoomi          90\n",
       "intex           61\n",
       "mobiistar       55\n",
       "nexus           51\n",
       "ikall           46\n",
       "redmi           45\n",
       "techno          42\n",
       "lephone         30\n",
       "acer            17\n",
       "fluo            15\n",
       "Name: phone_brand, dtype: int64"
      ]
     },
     "execution_count": 19,
     "metadata": {},
     "output_type": "execute_result"
    }
   ],
   "source": [
    "image_metadata_df_2200x1879['phone_brand'].value_counts()"
   ]
  },
  {
   "cell_type": "code",
   "execution_count": 20,
   "metadata": {},
   "outputs": [
    {
     "data": {
      "text/plain": [
       "(49,)"
      ]
     },
     "execution_count": 20,
     "metadata": {},
     "output_type": "execute_result"
    }
   ],
   "source": [
    "image_metadata_df_2200x1879['phone_brand'].value_counts().shape"
   ]
  },
  {
   "cell_type": "markdown",
   "metadata": {},
   "source": [
    "All in all, we end up with 49 unique brands in total. We can either set a threshold and combine some underrepresented classes into one category, or proceed with 49 classes. Yet, it does not seem to be the best option for a target variable as classes are extremely unbalanced"
   ]
  },
  {
   "cell_type": "markdown",
   "metadata": {},
   "source": [
    "# Second Target Variable Option – BERTopic"
   ]
  },
  {
   "cell_type": "markdown",
   "metadata": {},
   "source": [
    "The idea is to apply topic modelling on descriptions of phonecases and unite similarly described ones under a common topic or, alternatively, cluster"
   ]
  },
  {
   "cell_type": "markdown",
   "metadata": {},
   "source": [
    "Check if all item names are written in Latin characters"
   ]
  },
  {
   "cell_type": "code",
   "execution_count": 21,
   "metadata": {},
   "outputs": [
    {
     "data": {
      "text/plain": [
       "(11, 11)"
      ]
     },
     "execution_count": 21,
     "metadata": {},
     "output_type": "execute_result"
    }
   ],
   "source": [
    "def is_latin(s):\n",
    "    s = s.replace('\\xa0', ' ')\n",
    "    try:\n",
    "        s.encode(encoding='utf-8').decode('ascii')\n",
    "    except UnicodeDecodeError:\n",
    "        return False\n",
    "    else:\n",
    "        return True\n",
    "\n",
    "image_metadata_df_2200x1879[~image_metadata_df_2200x1879['item_name'].apply(is_latin)].shape"
   ]
  },
  {
   "cell_type": "markdown",
   "metadata": {},
   "source": [
    "11 item names contain non-Latin characters, therefore, should be dropped due to incompatibility with majority of data"
   ]
  },
  {
   "cell_type": "code",
   "execution_count": 22,
   "metadata": {},
   "outputs": [],
   "source": [
    "image_metadata_df_2200x1879 = image_metadata_df_2200x1879[image_metadata_df_2200x1879['item_name'].apply(is_latin)]"
   ]
  },
  {
   "cell_type": "markdown",
   "metadata": {},
   "source": [
    "Compute all words combinations in an item name column to detect possible repeated patterns"
   ]
  },
  {
   "cell_type": "code",
   "execution_count": 23,
   "metadata": {},
   "outputs": [],
   "source": [
    "from collections import Counter\n",
    "\n",
    "word_counts = Counter()\n",
    "image_metadata_df_2200x1879['item_name'].str.split().apply(word_counts.update)\n",
    "\n",
    "# Sort by count\n",
    "sorted_word_counts = sorted(word_counts.items(), key=lambda x: x[1], reverse=True)"
   ]
  },
  {
   "cell_type": "code",
   "execution_count": 24,
   "metadata": {},
   "outputs": [
    {
     "name": "stdout",
     "output_type": "stream",
     "text": [
      "for 54872\n",
      "Amazon 54804\n",
      "Brand 54804\n",
      "- 54804\n",
      "Solimo 54804\n",
      "Designer 54804\n",
      "Printed 54804\n",
      "Back 54804\n",
      "Case 54804\n",
      "Mobile 54804\n",
      "Cover 54804\n"
     ]
    }
   ],
   "source": [
    "repeated = []\n",
    "for word, count in sorted_word_counts:\n",
    "    if count >= image_metadata_df_2200x1879.shape[0]:\n",
    "        print(word, count)\n",
    "        repeated.append(word)"
   ]
  },
  {
   "cell_type": "markdown",
   "metadata": {},
   "source": [
    "These words occur for every brand, therefore should be dropped for the sake of more accurate word vector representations\n",
    "\n",
    "This step will be performed after initial preprocessing"
   ]
  },
  {
   "cell_type": "code",
   "execution_count": 25,
   "metadata": {},
   "outputs": [],
   "source": [
    "# remove model names\n",
    "image_metadata_df_2200x1879['item_name_tokenized'] = image_metadata_df_2200x1879.apply(\n",
    "    lambda x: x['item_name'].replace(x['model_name'], ''),\n",
    "    axis=1\n",
    ")"
   ]
  },
  {
   "cell_type": "code",
   "execution_count": 26,
   "metadata": {},
   "outputs": [],
   "source": [
    "# remove punctuation and special characters\n",
    "image_metadata_df_2200x1879['item_name_tokenized'] = image_metadata_df_2200x1879['item_name_tokenized'].apply(\n",
    "    lambda x: ''.join([char for char in x if char not in string.punctuation])\n",
    ")"
   ]
  },
  {
   "cell_type": "code",
   "execution_count": 27,
   "metadata": {},
   "outputs": [
    {
     "name": "stderr",
     "output_type": "stream",
     "text": [
      "[nltk_data] Downloading package punkt to\n",
      "[nltk_data]     /Users/fedorturchenko/nltk_data...\n",
      "[nltk_data]   Package punkt is already up-to-date!\n"
     ]
    }
   ],
   "source": [
    "nltk.download('punkt')\n",
    "# tokenize descriptions\n",
    "image_metadata_df_2200x1879['item_name_tokenized'] = image_metadata_df_2200x1879['item_name_tokenized'].apply(\n",
    "    lambda x: word_tokenize(x)\n",
    ")"
   ]
  },
  {
   "cell_type": "code",
   "execution_count": 28,
   "metadata": {},
   "outputs": [],
   "source": [
    "# now we can remove repeated phrase from each item name\n",
    "image_metadata_df_2200x1879['item_name_tokenized'] = image_metadata_df_2200x1879['item_name_tokenized'].apply(\n",
    "    lambda x: list(\n",
    "        set(x).difference(set(repeated))\n",
    "    )\n",
    ")"
   ]
  },
  {
   "cell_type": "code",
   "execution_count": 29,
   "metadata": {},
   "outputs": [
    {
     "name": "stdout",
     "output_type": "stream",
     "text": [
      "Token will not been saved to git credential helper. Pass `add_to_git_credential=True` if you want to set the git credential as well.\n",
      "Token is valid (permission: write).\n",
      "Your token has been saved to /Users/fedorturchenko/.cache/huggingface/token\n",
      "Login successful\n",
      "Successfully logged out.\n"
     ]
    }
   ],
   "source": [
    "# LOAD MODEL FROM HGF (do not waste time)\n",
    "\n",
    "##---DO NOT RUN---##\n",
    "# topic_model = BERTopic(nr_topics=30)\n",
    "# corpus = [' '.join(i) for i in image_metadata_df_2200x1879['item_name_tokenized']]\n",
    "# topics, probs = topic_model.fit_transform(corpus)\n",
    "##----------------##\n",
    "\n",
    "## load credentials\n",
    "load_dotenv()\n",
    "HGF_TOKEN = os.getenv('HUGGINGFACE_TOKEN')\n",
    "HGF_MODEL_REPO = os.getenv('HUGGINGFACE_TOPIC_MODEL_REPO')\n",
    "\n",
    "##---DO NOT RUN---##\n",
    "## save model\n",
    "# login(token=HGF_TOKEN)\n",
    "# topic_model.push_to_hf_hub(\n",
    "#     repo_id=HGF_MODEL_REPO\n",
    "# )\n",
    "# logout()\n",
    "##----------------##\n",
    "\n",
    "login(token=HGF_TOKEN)\n",
    "topic_model = BERTopic.load(HGF_MODEL_REPO)\n",
    "logout()"
   ]
  },
  {
   "cell_type": "code",
   "execution_count": 30,
   "metadata": {},
   "outputs": [
    {
     "data": {
      "text/html": [
       "<div>\n",
       "<style scoped>\n",
       "    .dataframe tbody tr th:only-of-type {\n",
       "        vertical-align: middle;\n",
       "    }\n",
       "\n",
       "    .dataframe tbody tr th {\n",
       "        vertical-align: top;\n",
       "    }\n",
       "\n",
       "    .dataframe thead th {\n",
       "        text-align: right;\n",
       "    }\n",
       "</style>\n",
       "<table border=\"1\" class=\"dataframe\">\n",
       "  <thead>\n",
       "    <tr style=\"text-align: right;\">\n",
       "      <th></th>\n",
       "      <th>Count</th>\n",
       "      <th>Name</th>\n",
       "      <th>Representation</th>\n",
       "      <th>Representative_Docs</th>\n",
       "    </tr>\n",
       "    <tr>\n",
       "      <th>Topic</th>\n",
       "      <th></th>\n",
       "      <th></th>\n",
       "      <th></th>\n",
       "      <th></th>\n",
       "    </tr>\n",
       "  </thead>\n",
       "  <tbody>\n",
       "    <tr>\n",
       "      <th>-1</th>\n",
       "      <td>983</td>\n",
       "      <td>-1_iphone_apple_logo_cut</td>\n",
       "      <td>[iphone, apple, logo, cut, xs, max, with, plus...</td>\n",
       "      <td>NaN</td>\n",
       "    </tr>\n",
       "    <tr>\n",
       "      <th>0</th>\n",
       "      <td>11157</td>\n",
       "      <td>0_uv_soft_flowers_dark</td>\n",
       "      <td>[uv, soft, flowers, dark, photography, love, w...</td>\n",
       "      <td>NaN</td>\n",
       "    </tr>\n",
       "    <tr>\n",
       "      <th>1</th>\n",
       "      <td>11134</td>\n",
       "      <td>1_vector_3d_hard_girl</td>\n",
       "      <td>[vector, 3d, hard, girl, lady, number, daddys,...</td>\n",
       "      <td>NaN</td>\n",
       "    </tr>\n",
       "    <tr>\n",
       "      <th>2</th>\n",
       "      <td>9453</td>\n",
       "      <td>2_texture_color_paint_multicolor</td>\n",
       "      <td>[texture, color, paint, multicolor, canvas, ha...</td>\n",
       "      <td>NaN</td>\n",
       "    </tr>\n",
       "    <tr>\n",
       "      <th>3</th>\n",
       "      <td>5756</td>\n",
       "      <td>3_flower_rangoli_stars_hard</td>\n",
       "      <td>[flower, rangoli, stars, hard, 3d, white, pink...</td>\n",
       "      <td>NaN</td>\n",
       "    </tr>\n",
       "    <tr>\n",
       "      <th>4</th>\n",
       "      <td>3520</td>\n",
       "      <td>4_pattern_print_shoes_boy</td>\n",
       "      <td>[pattern, print, shoes, boy, cloth, impression...</td>\n",
       "      <td>NaN</td>\n",
       "    </tr>\n",
       "    <tr>\n",
       "      <th>5</th>\n",
       "      <td>2108</td>\n",
       "      <td>5_wooden_tree_leaf_door</td>\n",
       "      <td>[wooden, tree, leaf, door, old, leafs, block, ...</td>\n",
       "      <td>NaN</td>\n",
       "    </tr>\n",
       "    <tr>\n",
       "      <th>6</th>\n",
       "      <td>1681</td>\n",
       "      <td>6_photography_view_sun_moon</td>\n",
       "      <td>[photography, view, sun, moon, solar, system, ...</td>\n",
       "      <td>NaN</td>\n",
       "    </tr>\n",
       "    <tr>\n",
       "      <th>7</th>\n",
       "      <td>1473</td>\n",
       "      <td>7_logo_iphone_cut_apple</td>\n",
       "      <td>[logo, iphone, cut, apple, plus, moto, motorol...</td>\n",
       "      <td>NaN</td>\n",
       "    </tr>\n",
       "    <tr>\n",
       "      <th>8</th>\n",
       "      <td>1133</td>\n",
       "      <td>8_glitter_queen_with_heart</td>\n",
       "      <td>[glitter, queen, with, heart, kitty, red, glit...</td>\n",
       "      <td>NaN</td>\n",
       "    </tr>\n",
       "    <tr>\n",
       "      <th>9</th>\n",
       "      <td>1078</td>\n",
       "      <td>9_boss_girl_sparkle_on</td>\n",
       "      <td>[boss, girl, sparkle, on, wood, pink, uv, soft...</td>\n",
       "      <td>NaN</td>\n",
       "    </tr>\n",
       "    <tr>\n",
       "      <th>10</th>\n",
       "      <td>882</td>\n",
       "      <td>10_panda_illustrator_experation_texture</td>\n",
       "      <td>[panda, illustrator, experation, texture, patt...</td>\n",
       "      <td>NaN</td>\n",
       "    </tr>\n",
       "    <tr>\n",
       "      <th>11</th>\n",
       "      <td>702</td>\n",
       "      <td>11_butterflies_neon_flying_light</td>\n",
       "      <td>[butterflies, neon, flying, light, soft, uv, h...</td>\n",
       "      <td>NaN</td>\n",
       "    </tr>\n",
       "    <tr>\n",
       "      <th>12</th>\n",
       "      <td>506</td>\n",
       "      <td>12_water_drop_reflection_glass</td>\n",
       "      <td>[water, drop, reflection, glass, sippy, lollip...</td>\n",
       "      <td>NaN</td>\n",
       "    </tr>\n",
       "    <tr>\n",
       "      <th>13</th>\n",
       "      <td>488</td>\n",
       "      <td>13_couple_kissing_at_kiss</td>\n",
       "      <td>[couple, kissing, at, kiss, sitting, married, ...</td>\n",
       "      <td>NaN</td>\n",
       "    </tr>\n",
       "    <tr>\n",
       "      <th>14</th>\n",
       "      <td>304</td>\n",
       "      <td>14_standing_rain_in_couples</td>\n",
       "      <td>[standing, rain, in, couples, uv, soft, hard, ...</td>\n",
       "      <td>NaN</td>\n",
       "    </tr>\n",
       "    <tr>\n",
       "      <th>15</th>\n",
       "      <td>301</td>\n",
       "      <td>15_teddy_bear_uv_soft</td>\n",
       "      <td>[teddy, bear, uv, soft, hard, 3d, poco, f1, k3...</td>\n",
       "      <td>NaN</td>\n",
       "    </tr>\n",
       "    <tr>\n",
       "      <th>16</th>\n",
       "      <td>289</td>\n",
       "      <td>16_redmi_mi_k30_zenfone</td>\n",
       "      <td>[redmi, mi, k30, zenfone, asus, ze550, laser, ...</td>\n",
       "      <td>NaN</td>\n",
       "    </tr>\n",
       "    <tr>\n",
       "      <th>17</th>\n",
       "      <td>288</td>\n",
       "      <td>17_punisher_skull_uv_soft</td>\n",
       "      <td>[punisher, skull, uv, soft, hard, 3d, poco, f1...</td>\n",
       "      <td>NaN</td>\n",
       "    </tr>\n",
       "    <tr>\n",
       "      <th>18</th>\n",
       "      <td>271</td>\n",
       "      <td>18_sleepy_kitten_soft_uv</td>\n",
       "      <td>[sleepy, kitten, soft, uv, hard, 3d, poco, f1,...</td>\n",
       "      <td>NaN</td>\n",
       "    </tr>\n",
       "    <tr>\n",
       "      <th>19</th>\n",
       "      <td>230</td>\n",
       "      <td>19_yang_yin_chinnese_and</td>\n",
       "      <td>[yang, yin, chinnese, and, uv, soft, hard, 3d,...</td>\n",
       "      <td>NaN</td>\n",
       "    </tr>\n",
       "    <tr>\n",
       "      <th>20</th>\n",
       "      <td>187</td>\n",
       "      <td>20_dual_cool1_coolpad_3d</td>\n",
       "      <td>[dual, cool1, coolpad, 3d, hard, texture, coup...</td>\n",
       "      <td>NaN</td>\n",
       "    </tr>\n",
       "    <tr>\n",
       "      <th>21</th>\n",
       "      <td>162</td>\n",
       "      <td>21_hanging_flowerpot_balls_hard</td>\n",
       "      <td>[hanging, flowerpot, balls, hard, 3d, redmi, k...</td>\n",
       "      <td>NaN</td>\n",
       "    </tr>\n",
       "    <tr>\n",
       "      <th>22</th>\n",
       "      <td>152</td>\n",
       "      <td>22_creaks_trunk_tree_wall</td>\n",
       "      <td>[creaks, trunk, tree, wall, on, hard, 3d, xs, ...</td>\n",
       "      <td>NaN</td>\n",
       "    </tr>\n",
       "    <tr>\n",
       "      <th>23</th>\n",
       "      <td>141</td>\n",
       "      <td>23_tower_eiffel_paris_hard</td>\n",
       "      <td>[tower, eiffel, paris, hard, 3d, k30, mi, redm...</td>\n",
       "      <td>NaN</td>\n",
       "    </tr>\n",
       "    <tr>\n",
       "      <th>24</th>\n",
       "      <td>117</td>\n",
       "      <td>24_multicolur_multicolour_flash_blocks</td>\n",
       "      <td>[multicolur, multicolour, flash, blocks, hard,...</td>\n",
       "      <td>NaN</td>\n",
       "    </tr>\n",
       "    <tr>\n",
       "      <th>25</th>\n",
       "      <td>96</td>\n",
       "      <td>25_oppo_acerealme_x2_reno</td>\n",
       "      <td>[oppo, acerealme, x2, reno, pro, f9, prooppo, ...</td>\n",
       "      <td>NaN</td>\n",
       "    </tr>\n",
       "    <tr>\n",
       "      <th>26</th>\n",
       "      <td>96</td>\n",
       "      <td>26_nut_bolt_hard_3d</td>\n",
       "      <td>[nut, bolt, hard, 3d, k30, mi, redmi, , , ]</td>\n",
       "      <td>NaN</td>\n",
       "    </tr>\n",
       "    <tr>\n",
       "      <th>27</th>\n",
       "      <td>74</td>\n",
       "      <td>27_patten_engraved_hard_3d</td>\n",
       "      <td>[patten, engraved, hard, 3d, xs, max, iphone, ...</td>\n",
       "      <td>NaN</td>\n",
       "    </tr>\n",
       "    <tr>\n",
       "      <th>28</th>\n",
       "      <td>42</td>\n",
       "      <td>28_racing_track_hard_3d</td>\n",
       "      <td>[racing, track, hard, 3d, , , , , , ]</td>\n",
       "      <td>NaN</td>\n",
       "    </tr>\n",
       "  </tbody>\n",
       "</table>\n",
       "</div>"
      ],
      "text/plain": [
       "       Count                                     Name  \\\n",
       "Topic                                                   \n",
       "-1       983                 -1_iphone_apple_logo_cut   \n",
       " 0     11157                   0_uv_soft_flowers_dark   \n",
       " 1     11134                    1_vector_3d_hard_girl   \n",
       " 2      9453         2_texture_color_paint_multicolor   \n",
       " 3      5756              3_flower_rangoli_stars_hard   \n",
       " 4      3520                4_pattern_print_shoes_boy   \n",
       " 5      2108                  5_wooden_tree_leaf_door   \n",
       " 6      1681              6_photography_view_sun_moon   \n",
       " 7      1473                  7_logo_iphone_cut_apple   \n",
       " 8      1133               8_glitter_queen_with_heart   \n",
       " 9      1078                   9_boss_girl_sparkle_on   \n",
       " 10      882  10_panda_illustrator_experation_texture   \n",
       " 11      702         11_butterflies_neon_flying_light   \n",
       " 12      506           12_water_drop_reflection_glass   \n",
       " 13      488                13_couple_kissing_at_kiss   \n",
       " 14      304              14_standing_rain_in_couples   \n",
       " 15      301                    15_teddy_bear_uv_soft   \n",
       " 16      289                  16_redmi_mi_k30_zenfone   \n",
       " 17      288                17_punisher_skull_uv_soft   \n",
       " 18      271                 18_sleepy_kitten_soft_uv   \n",
       " 19      230                 19_yang_yin_chinnese_and   \n",
       " 20      187                 20_dual_cool1_coolpad_3d   \n",
       " 21      162          21_hanging_flowerpot_balls_hard   \n",
       " 22      152                22_creaks_trunk_tree_wall   \n",
       " 23      141               23_tower_eiffel_paris_hard   \n",
       " 24      117   24_multicolur_multicolour_flash_blocks   \n",
       " 25       96                25_oppo_acerealme_x2_reno   \n",
       " 26       96                      26_nut_bolt_hard_3d   \n",
       " 27       74               27_patten_engraved_hard_3d   \n",
       " 28       42                  28_racing_track_hard_3d   \n",
       "\n",
       "                                          Representation  Representative_Docs  \n",
       "Topic                                                                          \n",
       "-1     [iphone, apple, logo, cut, xs, max, with, plus...                  NaN  \n",
       " 0     [uv, soft, flowers, dark, photography, love, w...                  NaN  \n",
       " 1     [vector, 3d, hard, girl, lady, number, daddys,...                  NaN  \n",
       " 2     [texture, color, paint, multicolor, canvas, ha...                  NaN  \n",
       " 3     [flower, rangoli, stars, hard, 3d, white, pink...                  NaN  \n",
       " 4     [pattern, print, shoes, boy, cloth, impression...                  NaN  \n",
       " 5     [wooden, tree, leaf, door, old, leafs, block, ...                  NaN  \n",
       " 6     [photography, view, sun, moon, solar, system, ...                  NaN  \n",
       " 7     [logo, iphone, cut, apple, plus, moto, motorol...                  NaN  \n",
       " 8     [glitter, queen, with, heart, kitty, red, glit...                  NaN  \n",
       " 9     [boss, girl, sparkle, on, wood, pink, uv, soft...                  NaN  \n",
       " 10    [panda, illustrator, experation, texture, patt...                  NaN  \n",
       " 11    [butterflies, neon, flying, light, soft, uv, h...                  NaN  \n",
       " 12    [water, drop, reflection, glass, sippy, lollip...                  NaN  \n",
       " 13    [couple, kissing, at, kiss, sitting, married, ...                  NaN  \n",
       " 14    [standing, rain, in, couples, uv, soft, hard, ...                  NaN  \n",
       " 15    [teddy, bear, uv, soft, hard, 3d, poco, f1, k3...                  NaN  \n",
       " 16    [redmi, mi, k30, zenfone, asus, ze550, laser, ...                  NaN  \n",
       " 17    [punisher, skull, uv, soft, hard, 3d, poco, f1...                  NaN  \n",
       " 18    [sleepy, kitten, soft, uv, hard, 3d, poco, f1,...                  NaN  \n",
       " 19    [yang, yin, chinnese, and, uv, soft, hard, 3d,...                  NaN  \n",
       " 20    [dual, cool1, coolpad, 3d, hard, texture, coup...                  NaN  \n",
       " 21    [hanging, flowerpot, balls, hard, 3d, redmi, k...                  NaN  \n",
       " 22    [creaks, trunk, tree, wall, on, hard, 3d, xs, ...                  NaN  \n",
       " 23    [tower, eiffel, paris, hard, 3d, k30, mi, redm...                  NaN  \n",
       " 24    [multicolur, multicolour, flash, blocks, hard,...                  NaN  \n",
       " 25    [oppo, acerealme, x2, reno, pro, f9, prooppo, ...                  NaN  \n",
       " 26          [nut, bolt, hard, 3d, k30, mi, redmi, , , ]                  NaN  \n",
       " 27    [patten, engraved, hard, 3d, xs, max, iphone, ...                  NaN  \n",
       " 28                [racing, track, hard, 3d, , , , , , ]                  NaN  "
      ]
     },
     "execution_count": 30,
     "metadata": {},
     "output_type": "execute_result"
    }
   ],
   "source": [
    "topic_model_df = topic_model.get_topic_info().set_index('Topic')\n",
    "topic_model_df"
   ]
  },
  {
   "cell_type": "markdown",
   "metadata": {},
   "source": [
    "Topic index `-1` reflects the outliers, i.e., phones for which the item name does not contain any representative information\n",
    "\n",
    "These models will be dropped from the dataset"
   ]
  },
  {
   "cell_type": "code",
   "execution_count": 31,
   "metadata": {},
   "outputs": [
    {
     "data": {
      "text/html": [
       "<div>\n",
       "<style scoped>\n",
       "    .dataframe tbody tr th:only-of-type {\n",
       "        vertical-align: middle;\n",
       "    }\n",
       "\n",
       "    .dataframe tbody tr th {\n",
       "        vertical-align: top;\n",
       "    }\n",
       "\n",
       "    .dataframe thead th {\n",
       "        text-align: right;\n",
       "    }\n",
       "</style>\n",
       "<table border=\"1\" class=\"dataframe\">\n",
       "  <thead>\n",
       "    <tr style=\"text-align: right;\">\n",
       "      <th></th>\n",
       "      <th>Document</th>\n",
       "      <th>Topic</th>\n",
       "      <th>Name</th>\n",
       "      <th>Representation</th>\n",
       "      <th>Representative_Docs</th>\n",
       "      <th>Top_n_words</th>\n",
       "      <th>Representative_document</th>\n",
       "    </tr>\n",
       "  </thead>\n",
       "  <tbody>\n",
       "    <tr>\n",
       "      <th>0</th>\n",
       "      <td>Sperking Stars Soft UV</td>\n",
       "      <td>0</td>\n",
       "      <td>0_uv_soft_flowers_dark</td>\n",
       "      <td>[uv, soft, flowers, dark, photography, love, w...</td>\n",
       "      <td>NaN</td>\n",
       "      <td>uv - soft - flowers - dark - photography - lov...</td>\n",
       "      <td>False</td>\n",
       "    </tr>\n",
       "    <tr>\n",
       "      <th>1</th>\n",
       "      <td>Rangoli 3D Peacock White Hard</td>\n",
       "      <td>2</td>\n",
       "      <td>2_texture_color_paint_multicolor</td>\n",
       "      <td>[texture, color, paint, multicolor, canvas, ha...</td>\n",
       "      <td>NaN</td>\n",
       "      <td>texture - color - paint - multicolor - canvas ...</td>\n",
       "      <td>False</td>\n",
       "    </tr>\n",
       "    <tr>\n",
       "      <th>2</th>\n",
       "      <td>Valley Hard 3D View</td>\n",
       "      <td>4</td>\n",
       "      <td>4_pattern_print_shoes_boy</td>\n",
       "      <td>[pattern, print, shoes, boy, cloth, impression...</td>\n",
       "      <td>NaN</td>\n",
       "      <td>pattern - print - shoes - boy - cloth - impres...</td>\n",
       "      <td>False</td>\n",
       "    </tr>\n",
       "    <tr>\n",
       "      <th>3</th>\n",
       "      <td>Makeup 3D Hard Set</td>\n",
       "      <td>2</td>\n",
       "      <td>2_texture_color_paint_multicolor</td>\n",
       "      <td>[texture, color, paint, multicolor, canvas, ha...</td>\n",
       "      <td>NaN</td>\n",
       "      <td>texture - color - paint - multicolor - canvas ...</td>\n",
       "      <td>False</td>\n",
       "    </tr>\n",
       "    <tr>\n",
       "      <th>4</th>\n",
       "      <td>3D Lighting Hard</td>\n",
       "      <td>1</td>\n",
       "      <td>1_vector_3d_hard_girl</td>\n",
       "      <td>[vector, 3d, hard, girl, lady, number, daddys,...</td>\n",
       "      <td>NaN</td>\n",
       "      <td>vector - 3d - hard - girl - lady - number - da...</td>\n",
       "      <td>False</td>\n",
       "    </tr>\n",
       "  </tbody>\n",
       "</table>\n",
       "</div>"
      ],
      "text/plain": [
       "                        Document  Topic                              Name  \\\n",
       "0         Sperking Stars Soft UV      0            0_uv_soft_flowers_dark   \n",
       "1  Rangoli 3D Peacock White Hard      2  2_texture_color_paint_multicolor   \n",
       "2            Valley Hard 3D View      4         4_pattern_print_shoes_boy   \n",
       "3             Makeup 3D Hard Set      2  2_texture_color_paint_multicolor   \n",
       "4               3D Lighting Hard      1             1_vector_3d_hard_girl   \n",
       "\n",
       "                                      Representation  Representative_Docs  \\\n",
       "0  [uv, soft, flowers, dark, photography, love, w...                  NaN   \n",
       "1  [texture, color, paint, multicolor, canvas, ha...                  NaN   \n",
       "2  [pattern, print, shoes, boy, cloth, impression...                  NaN   \n",
       "3  [texture, color, paint, multicolor, canvas, ha...                  NaN   \n",
       "4  [vector, 3d, hard, girl, lady, number, daddys,...                  NaN   \n",
       "\n",
       "                                         Top_n_words  Representative_document  \n",
       "0  uv - soft - flowers - dark - photography - lov...                    False  \n",
       "1  texture - color - paint - multicolor - canvas ...                    False  \n",
       "2  pattern - print - shoes - boy - cloth - impres...                    False  \n",
       "3  texture - color - paint - multicolor - canvas ...                    False  \n",
       "4  vector - 3d - hard - girl - lady - number - da...                    False  "
      ]
     },
     "execution_count": 31,
     "metadata": {},
     "output_type": "execute_result"
    }
   ],
   "source": [
    "corpus = [' '.join(i) for i in image_metadata_df_2200x1879['item_name_tokenized']]\n",
    "topic_df = topic_model.get_document_info(corpus)\n",
    "topic_df.head()"
   ]
  },
  {
   "cell_type": "code",
   "execution_count": 32,
   "metadata": {},
   "outputs": [],
   "source": [
    "image_metadata_df_2200x1879['item_name_processed'] = image_metadata_df_2200x1879['item_name_tokenized'].apply(' '.join)\n",
    "training_data = pd.concat(\n",
    "    [\n",
    "        image_metadata_df_2200x1879[['path', 'item_name_processed']].reset_index(drop=True),\n",
    "        topic_df.rename(\n",
    "            {\n",
    "                'Topic': 'topic',\n",
    "                'Name': 'topic_name'\n",
    "            },\n",
    "            axis=1\n",
    "        )[['topic', 'topic_name']]\n",
    "    ],\n",
    "    axis=1\n",
    ")"
   ]
  },
  {
   "cell_type": "code",
   "execution_count": 33,
   "metadata": {},
   "outputs": [
    {
     "data": {
      "text/html": [
       "<div>\n",
       "<style scoped>\n",
       "    .dataframe tbody tr th:only-of-type {\n",
       "        vertical-align: middle;\n",
       "    }\n",
       "\n",
       "    .dataframe tbody tr th {\n",
       "        vertical-align: top;\n",
       "    }\n",
       "\n",
       "    .dataframe thead th {\n",
       "        text-align: right;\n",
       "    }\n",
       "</style>\n",
       "<table border=\"1\" class=\"dataframe\">\n",
       "  <thead>\n",
       "    <tr style=\"text-align: right;\">\n",
       "      <th></th>\n",
       "      <th>path</th>\n",
       "      <th>item_name_processed</th>\n",
       "      <th>topic</th>\n",
       "      <th>topic_name</th>\n",
       "    </tr>\n",
       "  </thead>\n",
       "  <tbody>\n",
       "    <tr>\n",
       "      <th>0</th>\n",
       "      <td>02/0257d665.jpg</td>\n",
       "      <td>Sperking Stars Soft UV</td>\n",
       "      <td>0</td>\n",
       "      <td>0_uv_soft_flowers_dark</td>\n",
       "    </tr>\n",
       "    <tr>\n",
       "      <th>1</th>\n",
       "      <td>ff/fff5daaa.jpg</td>\n",
       "      <td>Rangoli 3D Peacock White Hard</td>\n",
       "      <td>2</td>\n",
       "      <td>2_texture_color_paint_multicolor</td>\n",
       "    </tr>\n",
       "    <tr>\n",
       "      <th>2</th>\n",
       "      <td>e2/e29e0326.jpg</td>\n",
       "      <td>Valley Hard 3D View</td>\n",
       "      <td>4</td>\n",
       "      <td>4_pattern_print_shoes_boy</td>\n",
       "    </tr>\n",
       "    <tr>\n",
       "      <th>3</th>\n",
       "      <td>a5/a56285ef.jpg</td>\n",
       "      <td>Makeup 3D Hard Set</td>\n",
       "      <td>2</td>\n",
       "      <td>2_texture_color_paint_multicolor</td>\n",
       "    </tr>\n",
       "    <tr>\n",
       "      <th>4</th>\n",
       "      <td>a3/a378a264.jpg</td>\n",
       "      <td>3D Lighting Hard</td>\n",
       "      <td>1</td>\n",
       "      <td>1_vector_3d_hard_girl</td>\n",
       "    </tr>\n",
       "  </tbody>\n",
       "</table>\n",
       "</div>"
      ],
      "text/plain": [
       "              path            item_name_processed  topic  \\\n",
       "0  02/0257d665.jpg         Sperking Stars Soft UV      0   \n",
       "1  ff/fff5daaa.jpg  Rangoli 3D Peacock White Hard      2   \n",
       "2  e2/e29e0326.jpg            Valley Hard 3D View      4   \n",
       "3  a5/a56285ef.jpg             Makeup 3D Hard Set      2   \n",
       "4  a3/a378a264.jpg               3D Lighting Hard      1   \n",
       "\n",
       "                         topic_name  \n",
       "0            0_uv_soft_flowers_dark  \n",
       "1  2_texture_color_paint_multicolor  \n",
       "2         4_pattern_print_shoes_boy  \n",
       "3  2_texture_color_paint_multicolor  \n",
       "4             1_vector_3d_hard_girl  "
      ]
     },
     "execution_count": 33,
     "metadata": {},
     "output_type": "execute_result"
    }
   ],
   "source": [
    "training_data = training_data.query('topic != -1') # remove \"outliers\"\n",
    "training_data.head()"
   ]
  },
  {
   "cell_type": "markdown",
   "metadata": {},
   "source": [
    "We managed to extract topics and their corresponding meaningful interpretations, reducing the total number of classes from 49 to 29. Even though imbalanced classes problem was diminished, yet still there are certain ones with extremely low number of observations"
   ]
  },
  {
   "cell_type": "markdown",
   "metadata": {},
   "source": [
    "# Third Target Variable Option – Top2Vec"
   ]
  },
  {
   "cell_type": "markdown",
   "metadata": {},
   "source": [
    "Since BERTopic did not produce favorable outcome, let us use another embedding-based topic modelling library to try and obtain better descriptions clusters. It uses sentence-level embeddings rather than word-level ones which may result in better performance"
   ]
  },
  {
   "cell_type": "code",
   "execution_count": 34,
   "metadata": {},
   "outputs": [],
   "source": [
    "# LOAD MODEL FROM HGF (do not waste time)\n",
    "\n",
    "##---DO NOT RUN---##\n",
    "# docs = image_metadata_df_2200x1879.drop_duplicates(['path'])['item_name']\n",
    "# docs_ids = image_metadata_df_2200x1879.drop_duplicates(['path'])['image_id'].values\n",
    "# topic_model = Top2Vec(docs.values, embedding_model='distiluse-base-multilingual-cased', document_ids=docs_ids)\n",
    "##----------------##\n",
    "\n",
    "HGF_MODEL_TOP2VEC_REPO = os.getenv('HUGGINGFACE_TOPIC_MODEL_TOP2VEC_REPO')\n",
    "HGF_MODEL_TOP2VEC_FILE = os.getenv('HUGGINGFACE_TOPIC_MODEL_TOP2VEC_FILE')\n",
    "\n",
    "##---DO NOT RUN---##\n",
    "## save model\n",
    "# filename = 'top2vec_model.pkl'\n",
    "# with open(filename, 'wb') as file:\n",
    "#     pickle.dump(topic_model, file)\n",
    "\n",
    "# login(token=HGF_TOKEN)\n",
    "# api = HfApi()\n",
    "# operations = [\n",
    "#     CommitOperationAdd(path_in_repo=filename, path_or_fileobj=filename),\n",
    "# ]\n",
    "# api.create_commit(\n",
    "#     repo_id=HGF_MODEL_TOP2VEC_REPO,\n",
    "#     operations=operations,\n",
    "#     commit_message='upload model',\n",
    "# )\n",
    "# logout()\n",
    "# # no need to keep it on local any further\n",
    "# os.remove(filename)\n",
    "##----------------##\n",
    "\n",
    "topic_model_file = hf_hub_download(repo_id=HGF_MODEL_TOP2VEC_REPO, filename=HGF_MODEL_TOP2VEC_FILE, token=HGF_TOKEN)\n",
    "with open(topic_model_file, 'rb') as file:\n",
    "    topic_model = pickle.load(file)"
   ]
  },
  {
   "cell_type": "code",
   "execution_count": 35,
   "metadata": {},
   "outputs": [
    {
     "name": "stdout",
     "output_type": "stream",
     "text": [
      "Total topics identified: 57\n"
     ]
    }
   ],
   "source": [
    "N_TOPICS = topic_model.get_num_topics()\n",
    "print(f'Total topics identified: {N_TOPICS}')"
   ]
  },
  {
   "cell_type": "markdown",
   "metadata": {},
   "source": [
    "Extract topics representations"
   ]
  },
  {
   "cell_type": "code",
   "execution_count": 36,
   "metadata": {},
   "outputs": [],
   "source": [
    "topic_words, word_scores, topic_nums = topic_model.get_topics(N_TOPICS)"
   ]
  },
  {
   "cell_type": "markdown",
   "metadata": {},
   "source": [
    "Perform mapping of topics onto original data"
   ]
  },
  {
   "cell_type": "code",
   "execution_count": 37,
   "metadata": {},
   "outputs": [],
   "source": [
    "topic_sizes, topic_nums = topic_model.get_topic_sizes()\n",
    "images_ids = []\n",
    "images_topics = []\n",
    "\n",
    "for size, topic in zip(topic_sizes, topic_nums):\n",
    "    documents, document_scores, document_ids = topic_model.search_documents_by_topic(topic_num=topic, num_docs=size)\n",
    "    images_ids.append(document_ids)\n",
    "    images_topics.append(topic)"
   ]
  },
  {
   "cell_type": "code",
   "execution_count": 38,
   "metadata": {},
   "outputs": [
    {
     "name": "stdout",
     "output_type": "stream",
     "text": [
      "(54652, 2)\n",
      "(54652, 3)\n"
     ]
    },
    {
     "data": {
      "text/html": [
       "<div>\n",
       "<style scoped>\n",
       "    .dataframe tbody tr th:only-of-type {\n",
       "        vertical-align: middle;\n",
       "    }\n",
       "\n",
       "    .dataframe tbody tr th {\n",
       "        vertical-align: top;\n",
       "    }\n",
       "\n",
       "    .dataframe thead th {\n",
       "        text-align: right;\n",
       "    }\n",
       "</style>\n",
       "<table border=\"1\" class=\"dataframe\">\n",
       "  <thead>\n",
       "    <tr style=\"text-align: right;\">\n",
       "      <th></th>\n",
       "      <th>image_id</th>\n",
       "      <th>topic</th>\n",
       "      <th>representation</th>\n",
       "    </tr>\n",
       "  </thead>\n",
       "  <tbody>\n",
       "    <tr>\n",
       "      <th>0</th>\n",
       "      <td>71TQQO0+jfL</td>\n",
       "      <td>0</td>\n",
       "      <td>cover mobile design case printed designer prin...</td>\n",
       "    </tr>\n",
       "    <tr>\n",
       "      <th>1</th>\n",
       "      <td>61PzHx1mWjL</td>\n",
       "      <td>0</td>\n",
       "      <td>cover mobile design case printed designer prin...</td>\n",
       "    </tr>\n",
       "    <tr>\n",
       "      <th>2</th>\n",
       "      <td>71yvuBYvLAL</td>\n",
       "      <td>0</td>\n",
       "      <td>cover mobile design case printed designer prin...</td>\n",
       "    </tr>\n",
       "    <tr>\n",
       "      <th>3</th>\n",
       "      <td>71w5gFk8h2L</td>\n",
       "      <td>0</td>\n",
       "      <td>cover mobile design case printed designer prin...</td>\n",
       "    </tr>\n",
       "    <tr>\n",
       "      <th>4</th>\n",
       "      <td>71Aqty5d1jL</td>\n",
       "      <td>0</td>\n",
       "      <td>cover mobile design case printed designer prin...</td>\n",
       "    </tr>\n",
       "  </tbody>\n",
       "</table>\n",
       "</div>"
      ],
      "text/plain": [
       "      image_id  topic                                     representation\n",
       "0  71TQQO0+jfL      0  cover mobile design case printed designer prin...\n",
       "1  61PzHx1mWjL      0  cover mobile design case printed designer prin...\n",
       "2  71yvuBYvLAL      0  cover mobile design case printed designer prin...\n",
       "3  71w5gFk8h2L      0  cover mobile design case printed designer prin...\n",
       "4  71Aqty5d1jL      0  cover mobile design case printed designer prin..."
      ]
     },
     "execution_count": 38,
     "metadata": {},
     "output_type": "execute_result"
    }
   ],
   "source": [
    "topics_df = pd.DataFrame({'image_id': images_ids, 'topic': images_topics})\n",
    "topics_df = topics_df.explode('image_id')\n",
    "print(topics_df.shape)\n",
    "topics_df = pd.merge(\n",
    "    topics_df,\n",
    "    pd.DataFrame({'topic': topic_nums, 'representation': list(map(' '.join, topic_words))}),\n",
    "    how='left',\n",
    "    on='topic'\n",
    ")\n",
    "print(topics_df.shape)\n",
    "topics_df.head()"
   ]
  },
  {
   "cell_type": "code",
   "execution_count": 39,
   "metadata": {},
   "outputs": [],
   "source": [
    "training_data = pd.merge(\n",
    "    image_metadata_df_2200x1879,\n",
    "    topics_df,\n",
    "    how='left',\n",
    "    on='image_id'\n",
    ")"
   ]
  },
  {
   "cell_type": "code",
   "execution_count": 40,
   "metadata": {},
   "outputs": [
    {
     "name": "stdout",
     "output_type": "stream",
     "text": [
      "(54804, 15)\n"
     ]
    },
    {
     "data": {
      "text/html": [
       "<div>\n",
       "<style scoped>\n",
       "    .dataframe tbody tr th:only-of-type {\n",
       "        vertical-align: middle;\n",
       "    }\n",
       "\n",
       "    .dataframe tbody tr th {\n",
       "        vertical-align: top;\n",
       "    }\n",
       "\n",
       "    .dataframe thead th {\n",
       "        text-align: right;\n",
       "    }\n",
       "</style>\n",
       "<table border=\"1\" class=\"dataframe\">\n",
       "  <thead>\n",
       "    <tr style=\"text-align: right;\">\n",
       "      <th></th>\n",
       "      <th>image_id</th>\n",
       "      <th>category</th>\n",
       "      <th>model_name</th>\n",
       "      <th>brand</th>\n",
       "      <th>country</th>\n",
       "      <th>item_name</th>\n",
       "      <th>marketplace</th>\n",
       "      <th>height</th>\n",
       "      <th>width</th>\n",
       "      <th>path</th>\n",
       "      <th>phone_brand</th>\n",
       "      <th>item_name_tokenized</th>\n",
       "      <th>item_name_processed</th>\n",
       "      <th>topic</th>\n",
       "      <th>representation</th>\n",
       "    </tr>\n",
       "  </thead>\n",
       "  <tbody>\n",
       "    <tr>\n",
       "      <th>0</th>\n",
       "      <td>61PjvipfNfL</td>\n",
       "      <td>CELLULAR_PHONE_CASE</td>\n",
       "      <td>Itel A25</td>\n",
       "      <td>Amazon Brand - Solimo</td>\n",
       "      <td>IN</td>\n",
       "      <td>Amazon Brand - Solimo Designer Sperking Stars ...</td>\n",
       "      <td>Amazon</td>\n",
       "      <td>2200</td>\n",
       "      <td>1879</td>\n",
       "      <td>02/0257d665.jpg</td>\n",
       "      <td>itel</td>\n",
       "      <td>[Sperking, Stars, Soft, UV]</td>\n",
       "      <td>Sperking Stars Soft UV</td>\n",
       "      <td>38</td>\n",
       "      <td>cover printed mobile sunside print cotton shad...</td>\n",
       "    </tr>\n",
       "    <tr>\n",
       "      <th>1</th>\n",
       "      <td>81zNMSIDRRL</td>\n",
       "      <td>CELLULAR_PHONE_CASE</td>\n",
       "      <td>Asus Zenfone 3 Laser ZC551KL</td>\n",
       "      <td>Amazon Brand - Solimo</td>\n",
       "      <td>IN</td>\n",
       "      <td>Amazon Brand - Solimo Designer White Peacock R...</td>\n",
       "      <td>Amazon</td>\n",
       "      <td>2200</td>\n",
       "      <td>1879</td>\n",
       "      <td>ff/fff5daaa.jpg</td>\n",
       "      <td>asus</td>\n",
       "      <td>[Rangoli, 3D, Peacock, White, Hard]</td>\n",
       "      <td>Rangoli 3D Peacock White Hard</td>\n",
       "      <td>3</td>\n",
       "      <td>cover design max case zenfone designer printed...</td>\n",
       "    </tr>\n",
       "    <tr>\n",
       "      <th>2</th>\n",
       "      <td>710EXpQig4L</td>\n",
       "      <td>CELLULAR_PHONE_CASE</td>\n",
       "      <td>Vivo Y69</td>\n",
       "      <td>Amazon Brand - Solimo</td>\n",
       "      <td>IN</td>\n",
       "      <td>Amazon Brand - Solimo Designer Valley View 3D ...</td>\n",
       "      <td>Amazon</td>\n",
       "      <td>2200</td>\n",
       "      <td>1879</td>\n",
       "      <td>e2/e29e0326.jpg</td>\n",
       "      <td>vivo</td>\n",
       "      <td>[Valley, Hard, 3D, View]</td>\n",
       "      <td>Valley Hard 3D View</td>\n",
       "      <td>0</td>\n",
       "      <td>cover mobile design case printed designer prin...</td>\n",
       "    </tr>\n",
       "    <tr>\n",
       "      <th>3</th>\n",
       "      <td>71wFnGN0FwL</td>\n",
       "      <td>CELLULAR_PHONE_CASE</td>\n",
       "      <td>Motorola Moto E 2nd Generation</td>\n",
       "      <td>Amazon Brand - Solimo</td>\n",
       "      <td>IN</td>\n",
       "      <td>Amazon Brand - Solimo Designer Makeup Set 3D P...</td>\n",
       "      <td>Amazon</td>\n",
       "      <td>2200</td>\n",
       "      <td>1879</td>\n",
       "      <td>a5/a56285ef.jpg</td>\n",
       "      <td>motorola</td>\n",
       "      <td>[Makeup, 3D, Hard, Set]</td>\n",
       "      <td>Makeup 3D Hard Set</td>\n",
       "      <td>4</td>\n",
       "      <td>mobile motorola motorcycle design cover moto c...</td>\n",
       "    </tr>\n",
       "    <tr>\n",
       "      <th>4</th>\n",
       "      <td>71aFO7Pla1L</td>\n",
       "      <td>CELLULAR_PHONE_CASE</td>\n",
       "      <td>Vivo V9 / V9 Pro</td>\n",
       "      <td>Amazon Brand - Solimo</td>\n",
       "      <td>IN</td>\n",
       "      <td>Amazon Brand - Solimo Designer Lighting 3D Pri...</td>\n",
       "      <td>Amazon</td>\n",
       "      <td>2200</td>\n",
       "      <td>1879</td>\n",
       "      <td>a3/a378a264.jpg</td>\n",
       "      <td>vivo</td>\n",
       "      <td>[3D, Lighting, Hard]</td>\n",
       "      <td>3D Lighting Hard</td>\n",
       "      <td>0</td>\n",
       "      <td>cover mobile design case printed designer prin...</td>\n",
       "    </tr>\n",
       "  </tbody>\n",
       "</table>\n",
       "</div>"
      ],
      "text/plain": [
       "      image_id             category                      model_name  \\\n",
       "0  61PjvipfNfL  CELLULAR_PHONE_CASE                        Itel A25   \n",
       "1  81zNMSIDRRL  CELLULAR_PHONE_CASE    Asus Zenfone 3 Laser ZC551KL   \n",
       "2  710EXpQig4L  CELLULAR_PHONE_CASE                        Vivo Y69   \n",
       "3  71wFnGN0FwL  CELLULAR_PHONE_CASE  Motorola Moto E 2nd Generation   \n",
       "4  71aFO7Pla1L  CELLULAR_PHONE_CASE                Vivo V9 / V9 Pro   \n",
       "\n",
       "                   brand country  \\\n",
       "0  Amazon Brand - Solimo      IN   \n",
       "1  Amazon Brand - Solimo      IN   \n",
       "2  Amazon Brand - Solimo      IN   \n",
       "3  Amazon Brand - Solimo      IN   \n",
       "4  Amazon Brand - Solimo      IN   \n",
       "\n",
       "                                           item_name marketplace  height  \\\n",
       "0  Amazon Brand - Solimo Designer Sperking Stars ...      Amazon    2200   \n",
       "1  Amazon Brand - Solimo Designer White Peacock R...      Amazon    2200   \n",
       "2  Amazon Brand - Solimo Designer Valley View 3D ...      Amazon    2200   \n",
       "3  Amazon Brand - Solimo Designer Makeup Set 3D P...      Amazon    2200   \n",
       "4  Amazon Brand - Solimo Designer Lighting 3D Pri...      Amazon    2200   \n",
       "\n",
       "   width             path phone_brand                  item_name_tokenized  \\\n",
       "0   1879  02/0257d665.jpg        itel          [Sperking, Stars, Soft, UV]   \n",
       "1   1879  ff/fff5daaa.jpg        asus  [Rangoli, 3D, Peacock, White, Hard]   \n",
       "2   1879  e2/e29e0326.jpg        vivo             [Valley, Hard, 3D, View]   \n",
       "3   1879  a5/a56285ef.jpg    motorola              [Makeup, 3D, Hard, Set]   \n",
       "4   1879  a3/a378a264.jpg        vivo                 [3D, Lighting, Hard]   \n",
       "\n",
       "             item_name_processed  topic  \\\n",
       "0         Sperking Stars Soft UV     38   \n",
       "1  Rangoli 3D Peacock White Hard      3   \n",
       "2            Valley Hard 3D View      0   \n",
       "3             Makeup 3D Hard Set      4   \n",
       "4               3D Lighting Hard      0   \n",
       "\n",
       "                                      representation  \n",
       "0  cover printed mobile sunside print cotton shad...  \n",
       "1  cover design max case zenfone designer printed...  \n",
       "2  cover mobile design case printed designer prin...  \n",
       "3  mobile motorola motorcycle design cover moto c...  \n",
       "4  cover mobile design case printed designer prin...  "
      ]
     },
     "execution_count": 40,
     "metadata": {},
     "output_type": "execute_result"
    }
   ],
   "source": [
    "print(training_data.shape)\n",
    "training_data.head()"
   ]
  },
  {
   "cell_type": "code",
   "execution_count": 41,
   "metadata": {},
   "outputs": [
    {
     "data": {
      "text/plain": [
       "0     24840\n",
       "1      2428\n",
       "2      2344\n",
       "3      2066\n",
       "4      2059\n",
       "5      1547\n",
       "6      1292\n",
       "7      1037\n",
       "8       893\n",
       "9       877\n",
       "10      741\n",
       "11      731\n",
       "12      723\n",
       "13      718\n",
       "14      635\n",
       "15      627\n",
       "16      598\n",
       "17      579\n",
       "18      541\n",
       "19      517\n",
       "20      505\n",
       "21      470\n",
       "22      440\n",
       "23      430\n",
       "24      405\n",
       "25      387\n",
       "26      381\n",
       "27      378\n",
       "28      376\n",
       "30      370\n",
       "29      368\n",
       "31      367\n",
       "32      329\n",
       "33      318\n",
       "34      281\n",
       "35      276\n",
       "36      275\n",
       "37      272\n",
       "38      251\n",
       "39      250\n",
       "40      191\n",
       "41      179\n",
       "42      173\n",
       "43      168\n",
       "44      153\n",
       "45      141\n",
       "46      136\n",
       "47      126\n",
       "48      117\n",
       "49       81\n",
       "50       80\n",
       "51       77\n",
       "52       62\n",
       "53       62\n",
       "54       60\n",
       "55       55\n",
       "56       21\n",
       "Name: topic, dtype: int64"
      ]
     },
     "execution_count": 41,
     "metadata": {},
     "output_type": "execute_result"
    }
   ],
   "source": [
    "training_data['topic'].value_counts()"
   ]
  },
  {
   "cell_type": "markdown",
   "metadata": {},
   "source": [
    "Imbalance issue has not been solved even in top2vec case. However, it produced a lot of classes, majority of which are close in number of observations"
   ]
  },
  {
   "cell_type": "markdown",
   "metadata": {},
   "source": [
    "# Generate and upload image dataset to HuggingFace"
   ]
  },
  {
   "cell_type": "markdown",
   "metadata": {},
   "source": [
    "`abo-images-small.tar` in the repository is a dummy one\n",
    "\n",
    "It does not contain any images and is present only for understanding of where it should be located respective to this notebook\n",
    "\n",
    "Replace it with a real file, downloaded from https://amazon-berkeley-objects.s3.amazonaws.com/index.html, only in case you want to run the below code"
   ]
  },
  {
   "cell_type": "markdown",
   "metadata": {},
   "source": [
    "ALL THESE ACTIONS ARE ALREADY PERFROMED – DO NOT RUN"
   ]
  },
  {
   "cell_type": "code",
   "execution_count": 42,
   "metadata": {},
   "outputs": [],
   "source": [
    "# # unzip only required files\n",
    "# with tarfile.open('abo-images-small.tar', 'r') as tar:\n",
    "#     for image in training_data['path']:\n",
    "#         image_to_extract = tar.getmember(f'images/small/{image}')\n",
    "#         tar.extract(member=image_to_extract)"
   ]
  },
  {
   "cell_type": "code",
   "execution_count": 43,
   "metadata": {},
   "outputs": [],
   "source": [
    "# # generate huggingface `'imagefolder'` structure of directories\n",
    "# for name in training_data['topic'].unique():\n",
    "#     os.mkdir(f'images/{name}')"
   ]
  },
  {
   "cell_type": "code",
   "execution_count": 44,
   "metadata": {},
   "outputs": [],
   "source": [
    "# # move files from directory to which they were unzipped\n",
    "# # to the newly created `'imagefolder'` structure of directories\n",
    "# for dir in os.listdir('images/small/'):\n",
    "#     for file in os.listdir(f'images/small/{dir}'):\n",
    "#         dest_folder = 'images/'+training_data[training_data['path']==f'{dir}/{file}']['topic'].astype(str).values[0]\n",
    "#         shutil.move(f'images/small/{dir}/{file}', dest_folder)"
   ]
  },
  {
   "cell_type": "code",
   "execution_count": 45,
   "metadata": {},
   "outputs": [],
   "source": [
    "# # remove directory where the images were unzipped for correct huggingface dataset creation\n",
    "# shutil.rmtree('images/small')"
   ]
  },
  {
   "cell_type": "code",
   "execution_count": 46,
   "metadata": {},
   "outputs": [],
   "source": [
    "# upload dataset to huggingface\n",
    "# dataset = load_dataset('imagefolder', data_dir='images', split='train')\n",
    "# dataset = dataset.train_test_split(test_size=0.25, shuffle=True, seed=42)\n",
    "# dataset.push_to_hub('ucy-dl-cloud/ucy_dl_dataset_top2vec_labels', private=True, token=HGF_TOKEN)"
   ]
  }
 ],
 "metadata": {
  "kernelspec": {
   "display_name": "Python 3",
   "language": "python",
   "name": "python3"
  },
  "language_info": {
   "codemirror_mode": {
    "name": "ipython",
    "version": 3
   },
   "file_extension": ".py",
   "mimetype": "text/x-python",
   "name": "python",
   "nbconvert_exporter": "python",
   "pygments_lexer": "ipython3",
   "version": "3.10.13"
  }
 },
 "nbformat": 4,
 "nbformat_minor": 2
}
