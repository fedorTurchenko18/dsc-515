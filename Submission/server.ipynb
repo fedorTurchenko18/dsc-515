{
 "cells": [
  {
   "cell_type": "code",
   "execution_count": 1,
   "id": "cdf4c812-e89b-483f-94b9-032e55d75329",
   "metadata": {
    "tags": []
   },
   "outputs": [],
   "source": [
    "script = \"\"\"\n",
    "import flwr as fl\n",
    "\n",
    "fl.server.start_server(config=fl.server.ServerConfig(num_rounds=3))\n",
    "\"\"\"\n",
    "\n",
    "with open('server_script.py', 'w') as f:\n",
    "    f.write(script)\n"
   ]
  },
  {
   "cell_type": "code",
   "execution_count": 2,
   "id": "1b3a382d-7e77-4b69-be30-71e592e54d36",
   "metadata": {
    "tags": []
   },
   "outputs": [],
   "source": [
    "import subprocess\n",
    "import sys\n",
    "\n",
    "# For Windows\n",
    "if sys.platform.startswith('win'):\n",
    "    subprocess.Popen(['start', 'cmd', '/k', 'python server_script.py'], shell=True)\n",
    "\n",
    "# For macOS and Linux\n",
    "else:\n",
    "    subprocess.Popen(['gnome-terminal', '--', 'python3', 'server_script.py'])\n"
   ]
  },
  {
   "cell_type": "code",
   "execution_count": null,
   "id": "bbfdd8e6-9741-4ada-a5b4-834a0169a2b1",
   "metadata": {},
   "outputs": [],
   "source": []
  }
 ],
 "metadata": {
  "kernelspec": {
   "display_name": "Python 3 (ipykernel)",
   "language": "python",
   "name": "python3"
  },
  "language_info": {
   "codemirror_mode": {
    "name": "ipython",
    "version": 3
   },
   "file_extension": ".py",
   "mimetype": "text/x-python",
   "name": "python",
   "nbconvert_exporter": "python",
   "pygments_lexer": "ipython3",
   "version": "3.9.18"
  }
 },
 "nbformat": 4,
 "nbformat_minor": 5
}
