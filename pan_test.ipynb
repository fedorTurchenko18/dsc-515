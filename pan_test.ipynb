{
 "cells": [
  {
   "cell_type": "code",
   "execution_count": 7,
   "id": "d021a8e5-f1f8-4106-88f8-90d1462715d5",
   "metadata": {
    "tags": []
   },
   "outputs": [
    {
     "data": {
      "text/plain": [
       "True"
      ]
     },
     "execution_count": 7,
     "metadata": {},
     "output_type": "execute_result"
    }
   ],
   "source": [
    "import os\n",
    "from dotenv import load_dotenv\n",
    "\n",
    "load_dotenv()\n"
   ]
  },
  {
   "cell_type": "code",
   "execution_count": 9,
   "id": "a44027b0-db1a-4b19-b232-158970ca73f8",
   "metadata": {
    "tags": []
   },
   "outputs": [
    {
     "data": {
      "text/plain": [
       "'D:\\\\abo\\\\images'"
      ]
     },
     "execution_count": 9,
     "metadata": {},
     "output_type": "execute_result"
    }
   ],
   "source": [
    "folder_path = os.getenv('INIT_FOLDER_PATH')\n",
    "folder_path"
   ]
  },
  {
   "cell_type": "code",
   "execution_count": 19,
   "id": "6cced98d-831a-43db-ad11-e30ed7f5966e",
   "metadata": {
    "tags": []
   },
   "outputs": [
    {
     "data": {
      "text/html": [
       "<div>\n",
       "<style scoped>\n",
       "    .dataframe tbody tr th:only-of-type {\n",
       "        vertical-align: middle;\n",
       "    }\n",
       "\n",
       "    .dataframe tbody tr th {\n",
       "        vertical-align: top;\n",
       "    }\n",
       "\n",
       "    .dataframe thead th {\n",
       "        text-align: right;\n",
       "    }\n",
       "</style>\n",
       "<table border=\"1\" class=\"dataframe\">\n",
       "  <thead>\n",
       "    <tr style=\"text-align: right;\">\n",
       "      <th></th>\n",
       "      <th>image_id</th>\n",
       "      <th>height</th>\n",
       "      <th>width</th>\n",
       "      <th>path</th>\n",
       "    </tr>\n",
       "  </thead>\n",
       "  <tbody>\n",
       "    <tr>\n",
       "      <th>0</th>\n",
       "      <td>010-mllS7JL</td>\n",
       "      <td>106</td>\n",
       "      <td>106</td>\n",
       "      <td>14/14fe8812.jpg</td>\n",
       "    </tr>\n",
       "    <tr>\n",
       "      <th>1</th>\n",
       "      <td>01dkn0Gyx0L</td>\n",
       "      <td>122</td>\n",
       "      <td>122</td>\n",
       "      <td>da/daab0cad.jpg</td>\n",
       "    </tr>\n",
       "    <tr>\n",
       "      <th>2</th>\n",
       "      <td>01sUPg0387L</td>\n",
       "      <td>111</td>\n",
       "      <td>111</td>\n",
       "      <td>d2/d2daaae9.jpg</td>\n",
       "    </tr>\n",
       "    <tr>\n",
       "      <th>3</th>\n",
       "      <td>1168jc-5r1L</td>\n",
       "      <td>186</td>\n",
       "      <td>186</td>\n",
       "      <td>3a/3a4e88e6.jpg</td>\n",
       "    </tr>\n",
       "    <tr>\n",
       "      <th>4</th>\n",
       "      <td>11RUV5Fs65L</td>\n",
       "      <td>30</td>\n",
       "      <td>500</td>\n",
       "      <td>d9/d91ab9cf.jpg</td>\n",
       "    </tr>\n",
       "    <tr>\n",
       "      <th>...</th>\n",
       "      <td>...</td>\n",
       "      <td>...</td>\n",
       "      <td>...</td>\n",
       "      <td>...</td>\n",
       "    </tr>\n",
       "    <tr>\n",
       "      <th>398207</th>\n",
       "      <td>B1zv8OpTkBS</td>\n",
       "      <td>2560</td>\n",
       "      <td>2560</td>\n",
       "      <td>6d/6d49d130.jpg</td>\n",
       "    </tr>\n",
       "    <tr>\n",
       "      <th>398208</th>\n",
       "      <td>B1zwflWhPIS</td>\n",
       "      <td>2560</td>\n",
       "      <td>2560</td>\n",
       "      <td>b1/b163e0ea.jpg</td>\n",
       "    </tr>\n",
       "    <tr>\n",
       "      <th>398209</th>\n",
       "      <td>C1lf45DhhRS</td>\n",
       "      <td>2560</td>\n",
       "      <td>2560</td>\n",
       "      <td>a1/a116d9d1.jpg</td>\n",
       "    </tr>\n",
       "    <tr>\n",
       "      <th>398210</th>\n",
       "      <td>C1pEt6jBLiS</td>\n",
       "      <td>2560</td>\n",
       "      <td>2560</td>\n",
       "      <td>9c/9c3e1158.jpg</td>\n",
       "    </tr>\n",
       "    <tr>\n",
       "      <th>398211</th>\n",
       "      <td>C1sCYAz8NAS</td>\n",
       "      <td>2560</td>\n",
       "      <td>2560</td>\n",
       "      <td>cf/cf112e38.jpg</td>\n",
       "    </tr>\n",
       "  </tbody>\n",
       "</table>\n",
       "<p>398212 rows × 4 columns</p>\n",
       "</div>"
      ],
      "text/plain": [
       "           image_id  height  width             path\n",
       "0       010-mllS7JL     106    106  14/14fe8812.jpg\n",
       "1       01dkn0Gyx0L     122    122  da/daab0cad.jpg\n",
       "2       01sUPg0387L     111    111  d2/d2daaae9.jpg\n",
       "3       1168jc-5r1L     186    186  3a/3a4e88e6.jpg\n",
       "4       11RUV5Fs65L      30    500  d9/d91ab9cf.jpg\n",
       "...             ...     ...    ...              ...\n",
       "398207  B1zv8OpTkBS    2560   2560  6d/6d49d130.jpg\n",
       "398208  B1zwflWhPIS    2560   2560  b1/b163e0ea.jpg\n",
       "398209  C1lf45DhhRS    2560   2560  a1/a116d9d1.jpg\n",
       "398210  C1pEt6jBLiS    2560   2560  9c/9c3e1158.jpg\n",
       "398211  C1sCYAz8NAS    2560   2560  cf/cf112e38.jpg\n",
       "\n",
       "[398212 rows x 4 columns]"
      ]
     },
     "execution_count": 19,
     "metadata": {},
     "output_type": "execute_result"
    }
   ],
   "source": [
    "import pandas as pd\n",
    "import os.path\n",
    "\n",
    "meta_path = os.path.join(folder_path, 'metadata','images.csv')\n",
    "\n",
    "meta = pd.read_csv(meta_path)\n",
    "\n",
    "meta"
   ]
  },
  {
   "cell_type": "code",
   "execution_count": 22,
   "id": "a8a689c9-6069-4811-ade9-ea896979892f",
   "metadata": {
    "tags": []
   },
   "outputs": [
    {
     "data": {
      "text/plain": [
       "{'height': 0    106\n",
       " Name: height, dtype: int64,\n",
       " 'width': 0    106\n",
       " Name: width, dtype: int64,\n",
       " 'path': 0    14/14fe8812.jpg\n",
       " Name: path, dtype: object}"
      ]
     },
     "execution_count": 22,
     "metadata": {},
     "output_type": "execute_result"
    }
   ],
   "source": [
    "#create helper funcs\n",
    "\n",
    "def get_image_att(image_id):\n",
    "    \n",
    "    record = meta[meta.image_id == image_id]\n",
    "    return  {\n",
    "        'height':record['height'],\n",
    "        'width':record['width'],\n",
    "        'path':record['path'],\n",
    "    }\n",
    "    \n",
    "get_image_att('010-mllS7JL')"
   ]
  },
  {
   "cell_type": "code",
   "execution_count": null,
   "id": "fcd4faae-cc15-4f59-8459-580807116ca5",
   "metadata": {},
   "outputs": [],
   "source": []
  }
 ],
 "metadata": {
  "kernelspec": {
   "display_name": "Python 3 (ipykernel)",
   "language": "python",
   "name": "python3"
  },
  "language_info": {
   "codemirror_mode": {
    "name": "ipython",
    "version": 3
   },
   "file_extension": ".py",
   "mimetype": "text/x-python",
   "name": "python",
   "nbconvert_exporter": "python",
   "pygments_lexer": "ipython3",
   "version": "3.9.18"
  }
 },
 "nbformat": 4,
 "nbformat_minor": 5
}
