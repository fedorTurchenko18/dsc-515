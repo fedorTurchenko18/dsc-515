{
 "cells": [
  {
   "cell_type": "code",
   "execution_count": 1,
   "id": "d021a8e5-f1f8-4106-88f8-90d1462715d5",
   "metadata": {
    "tags": []
   },
   "outputs": [
    {
     "data": {
      "text/plain": [
       "True"
      ]
     },
     "execution_count": 1,
     "metadata": {},
     "output_type": "execute_result"
    }
   ],
   "source": [
    "import os\n",
    "from dotenv import load_dotenv\n",
    "\n",
    "load_dotenv()\n"
   ]
  },
  {
   "cell_type": "code",
   "execution_count": 2,
   "id": "a44027b0-db1a-4b19-b232-158970ca73f8",
   "metadata": {
    "tags": []
   },
   "outputs": [
    {
     "data": {
      "text/plain": [
       "'D:\\\\abo\\\\'"
      ]
     },
     "execution_count": 2,
     "metadata": {},
     "output_type": "execute_result"
    }
   ],
   "source": [
    "folder_path = os.getenv('INIT_FOLDER_PATH')\n",
    "folder_path"
   ]
  },
  {
   "cell_type": "code",
   "execution_count": 3,
   "id": "6cced98d-831a-43db-ad11-e30ed7f5966e",
   "metadata": {
    "tags": []
   },
   "outputs": [
    {
     "data": {
      "text/html": [
       "<div>\n",
       "<style scoped>\n",
       "    .dataframe tbody tr th:only-of-type {\n",
       "        vertical-align: middle;\n",
       "    }\n",
       "\n",
       "    .dataframe tbody tr th {\n",
       "        vertical-align: top;\n",
       "    }\n",
       "\n",
       "    .dataframe thead th {\n",
       "        text-align: right;\n",
       "    }\n",
       "</style>\n",
       "<table border=\"1\" class=\"dataframe\">\n",
       "  <thead>\n",
       "    <tr style=\"text-align: right;\">\n",
       "      <th></th>\n",
       "      <th>image_id</th>\n",
       "      <th>height</th>\n",
       "      <th>width</th>\n",
       "      <th>path</th>\n",
       "    </tr>\n",
       "  </thead>\n",
       "  <tbody>\n",
       "    <tr>\n",
       "      <th>0</th>\n",
       "      <td>010-mllS7JL</td>\n",
       "      <td>106</td>\n",
       "      <td>106</td>\n",
       "      <td>14/14fe8812.jpg</td>\n",
       "    </tr>\n",
       "    <tr>\n",
       "      <th>1</th>\n",
       "      <td>01dkn0Gyx0L</td>\n",
       "      <td>122</td>\n",
       "      <td>122</td>\n",
       "      <td>da/daab0cad.jpg</td>\n",
       "    </tr>\n",
       "    <tr>\n",
       "      <th>2</th>\n",
       "      <td>01sUPg0387L</td>\n",
       "      <td>111</td>\n",
       "      <td>111</td>\n",
       "      <td>d2/d2daaae9.jpg</td>\n",
       "    </tr>\n",
       "    <tr>\n",
       "      <th>3</th>\n",
       "      <td>1168jc-5r1L</td>\n",
       "      <td>186</td>\n",
       "      <td>186</td>\n",
       "      <td>3a/3a4e88e6.jpg</td>\n",
       "    </tr>\n",
       "    <tr>\n",
       "      <th>4</th>\n",
       "      <td>11RUV5Fs65L</td>\n",
       "      <td>30</td>\n",
       "      <td>500</td>\n",
       "      <td>d9/d91ab9cf.jpg</td>\n",
       "    </tr>\n",
       "    <tr>\n",
       "      <th>...</th>\n",
       "      <td>...</td>\n",
       "      <td>...</td>\n",
       "      <td>...</td>\n",
       "      <td>...</td>\n",
       "    </tr>\n",
       "    <tr>\n",
       "      <th>398207</th>\n",
       "      <td>B1zv8OpTkBS</td>\n",
       "      <td>2560</td>\n",
       "      <td>2560</td>\n",
       "      <td>6d/6d49d130.jpg</td>\n",
       "    </tr>\n",
       "    <tr>\n",
       "      <th>398208</th>\n",
       "      <td>B1zwflWhPIS</td>\n",
       "      <td>2560</td>\n",
       "      <td>2560</td>\n",
       "      <td>b1/b163e0ea.jpg</td>\n",
       "    </tr>\n",
       "    <tr>\n",
       "      <th>398209</th>\n",
       "      <td>C1lf45DhhRS</td>\n",
       "      <td>2560</td>\n",
       "      <td>2560</td>\n",
       "      <td>a1/a116d9d1.jpg</td>\n",
       "    </tr>\n",
       "    <tr>\n",
       "      <th>398210</th>\n",
       "      <td>C1pEt6jBLiS</td>\n",
       "      <td>2560</td>\n",
       "      <td>2560</td>\n",
       "      <td>9c/9c3e1158.jpg</td>\n",
       "    </tr>\n",
       "    <tr>\n",
       "      <th>398211</th>\n",
       "      <td>C1sCYAz8NAS</td>\n",
       "      <td>2560</td>\n",
       "      <td>2560</td>\n",
       "      <td>cf/cf112e38.jpg</td>\n",
       "    </tr>\n",
       "  </tbody>\n",
       "</table>\n",
       "<p>398212 rows × 4 columns</p>\n",
       "</div>"
      ],
      "text/plain": [
       "           image_id  height  width             path\n",
       "0       010-mllS7JL     106    106  14/14fe8812.jpg\n",
       "1       01dkn0Gyx0L     122    122  da/daab0cad.jpg\n",
       "2       01sUPg0387L     111    111  d2/d2daaae9.jpg\n",
       "3       1168jc-5r1L     186    186  3a/3a4e88e6.jpg\n",
       "4       11RUV5Fs65L      30    500  d9/d91ab9cf.jpg\n",
       "...             ...     ...    ...              ...\n",
       "398207  B1zv8OpTkBS    2560   2560  6d/6d49d130.jpg\n",
       "398208  B1zwflWhPIS    2560   2560  b1/b163e0ea.jpg\n",
       "398209  C1lf45DhhRS    2560   2560  a1/a116d9d1.jpg\n",
       "398210  C1pEt6jBLiS    2560   2560  9c/9c3e1158.jpg\n",
       "398211  C1sCYAz8NAS    2560   2560  cf/cf112e38.jpg\n",
       "\n",
       "[398212 rows x 4 columns]"
      ]
     },
     "execution_count": 3,
     "metadata": {},
     "output_type": "execute_result"
    }
   ],
   "source": [
    "import pandas as pd\n",
    "import os.path\n",
    "\n",
    "images_path = os.path.join(folder_path, 'images')\n",
    "\n",
    "images_meta_path = os.path.join(images_path, 'metadata','images.csv')\n",
    "\n",
    "images_meta = pd.read_csv(images_meta_path)\n",
    "\n",
    "images_meta"
   ]
  },
  {
   "cell_type": "code",
   "execution_count": 26,
   "id": "a8a689c9-6069-4811-ade9-ea896979892f",
   "metadata": {
    "tags": []
   },
   "outputs": [
    {
     "data": {
      "text/plain": [
       "{'height': 1923, 'width': 1627, 'path': '4c/4c533ad7.jpg'}"
      ]
     },
     "execution_count": 26,
     "metadata": {},
     "output_type": "execute_result"
    }
   ],
   "source": [
    "#create helper funcs\n",
    "\n",
    "def get_image_att(image_id):\n",
    "    \n",
    "    record = images_meta[images_meta.image_id == image_id]\n",
    "    \n",
    "    if len(record)>0 and len(record['height'])>0 and len(record['width'])>0 and len(record['path'])>0:\n",
    "        \n",
    "        record = record.iloc[0]\n",
    "        \n",
    "        return  {\n",
    "            'height':record['height'],\n",
    "            'width':record['width'],\n",
    "            'path':record['path'],\n",
    "        }\n",
    "    return {}\n",
    "    \n",
    "get_image_att('718mYsQTQbL')"
   ]
  },
  {
   "cell_type": "code",
   "execution_count": 22,
   "id": "7f31a9dd-2f54-49e2-9783-7513eac6ce28",
   "metadata": {
    "tags": []
   },
   "outputs": [
    {
     "data": {
      "text/plain": [
       "['listings_0.json',\n",
       " 'listings_1.json',\n",
       " 'listings_2.json',\n",
       " 'listings_3.json',\n",
       " 'listings_4.json',\n",
       " 'listings_5.json',\n",
       " 'listings_6.json',\n",
       " 'listings_7.json',\n",
       " 'listings_8.json',\n",
       " 'listings_9.json',\n",
       " 'listings_a.json',\n",
       " 'listings_b.json',\n",
       " 'listings_c.json',\n",
       " 'listings_d.json',\n",
       " 'listings_e.json',\n",
       " 'listings_f.json']"
      ]
     },
     "execution_count": 22,
     "metadata": {},
     "output_type": "execute_result"
    }
   ],
   "source": [
    "from os import listdir\n",
    "from os.path import isfile, join\n",
    "\n",
    "listings_path = os.path.join(folder_path, 'listings','metadata')\n",
    "\n",
    "onlyfiles = [f for f in listdir(listings_path) if isfile(join(listings_path, f))]\n",
    "onlyfiles"
   ]
  },
  {
   "cell_type": "code",
   "execution_count": 6,
   "id": "fcd4faae-cc15-4f59-8459-580807116ca5",
   "metadata": {
    "tags": []
   },
   "outputs": [
    {
     "data": {
      "text/plain": [
       "{'brand': [{'language_tag': 'de_DE', 'value': 'Amazon Essentials'}],\n",
       " 'bullet_point': [{'language_tag': 'de_DE',\n",
       "   'value': 'Fällt gross aus; eventuell eine Größe kleiner bestellen'}],\n",
       " 'color': [{'language_tag': 'de_DE', 'value': 'Mehrfarbig(Girl Fruit)'}],\n",
       " 'fabric_type': [{'language_tag': 'en_GB', 'value': '100% Cotton'},\n",
       "  {'language_tag': 'de_DE', 'value': '100 % Baumwolle'}],\n",
       " 'item_id': 'B07HL25ZQM',\n",
       " 'item_name': [{'language_tag': 'en_GB',\n",
       "   'value': 'Amazon Essentials Bib Set of 6'},\n",
       "  {'language_tag': 'de_DE',\n",
       "   'value': 'Amazon Essentials 6-Pack Bib Set, Mehrfarbig(Girl Fruit), Einheitsgröße'}],\n",
       " 'model_name': [{'language_tag': 'en_GB', 'value': '6-Pack Bib Set'},\n",
       "  {'language_tag': 'de_DE', 'value': '6-Pack Bib Set'}],\n",
       " 'model_number': [{'value': 'P_AE3131_M6'}],\n",
       " 'product_type': [{'value': 'BABY_PRODUCT'}],\n",
       " 'style': [{'language_tag': 'de_DE', 'value': '6-Pack Bib Set'}],\n",
       " 'main_image_id': '718mYsQTQbL',\n",
       " 'country': 'DE',\n",
       " 'marketplace': 'Amazon',\n",
       " 'domain_name': 'amazon.de',\n",
       " 'node': [{'node_id': 3968940031,\n",
       "   'node_name': '/Kategorien/Ernährung & Stillen/Lätzchen'}]}"
      ]
     },
     "execution_count": 6,
     "metadata": {},
     "output_type": "execute_result"
    }
   ],
   "source": [
    "import json\n",
    "import pprint\n",
    "\n",
    "item_dict = {}\n",
    "\n",
    "for filename in onlyfiles:\n",
    "    first_path = os.path.join(listings_path, filename)\n",
    "    file1 = open(first_path, 'r')\n",
    "    Lines = file1.readlines()\n",
    "    count = 0\n",
    "    for line in Lines:\n",
    "        # print(line)\n",
    "        dict = json.loads(line)\n",
    "        if 'main_image_id' in dict:\n",
    "            main_image_id = dict['main_image_id']\n",
    "            item_dict[main_image_id] = dict\n",
    "\n"
   ]
  },
  {
   "cell_type": "code",
   "execution_count": 30,
   "id": "1d96fac4-7cc2-4192-aaaf-d6b8cbea1292",
   "metadata": {
    "tags": []
   },
   "outputs": [
    {
     "data": {
      "text/plain": [
       "{'brand': [{'language_tag': 'it_IT', 'value': 'UMI'}],\n",
       " 'item_id': 'B07Y7M4JZ2',\n",
       " 'item_name': [{'language_tag': 'it_IT',\n",
       "   'value': 'Set of 6 Highball Clear Glass 350ml Water Juice Cocktail …'}],\n",
       " 'product_type': [{'value': 'KITCHEN'}],\n",
       " 'main_image_id': '01dkn0Gyx0L',\n",
       " 'item_keywords': [{'language_tag': 'it_IT',\n",
       "   'value': 'bicchieri highball^bicchieri highball di base^set di bicchieri highball^bicchieri per bevande^bicchieri multiuso^bicchieri di vetro trasparente'}],\n",
       " 'country': 'IT',\n",
       " 'marketplace': 'Amazon',\n",
       " 'domain_name': 'amazon.it',\n",
       " 'node': [{'node_id': 652623031,\n",
       "   'node_name': '/Categorie/Stoviglie/Bicchieri e cristalli/Bicchieri per Cocktail'}]}"
      ]
     },
     "execution_count": 30,
     "metadata": {},
     "output_type": "execute_result"
    }
   ],
   "source": [
    "item_dict['01dkn0Gyx0L']"
   ]
  },
  {
   "cell_type": "code",
   "execution_count": 31,
   "id": "ffb99a60-011f-4d21-aaf7-bcf4deb84ec3",
   "metadata": {
    "tags": []
   },
   "outputs": [
    {
     "data": {
      "text/plain": [
       "{'height': 122, 'width': 122, 'path': 'da/daab0cad.jpg'}"
      ]
     },
     "execution_count": 31,
     "metadata": {},
     "output_type": "execute_result"
    }
   ],
   "source": [
    "get_image_att('01dkn0Gyx0L')"
   ]
  },
  {
   "cell_type": "code",
   "execution_count": 32,
   "id": "cf8342b9-fc24-41b4-8cfa-87d24160e9e8",
   "metadata": {},
   "outputs": [
    {
     "data": {
      "image/jpeg": "[encoded data removed]",
      "text/plain": [
       "<IPython.core.display.Image object>"
      ]
     },
     "execution_count": 32,
     "metadata": {},
     "output_type": "execute_result"
    }
   ],
   "source": [
    "from IPython.display import Image\n",
    "\n",
    "image_path_loc = get_image_att('01dkn0Gyx0L')['path']\n",
    "\n",
    "splitted = image_path_loc.split('/')\n",
    "\n",
    "image_path = os.path.join(images_path,'small',splitted[0],splitted[1])\n",
    "\n",
    "Image(image_path)"
   ]
  },
  {
   "cell_type": "code",
   "execution_count": 33,
   "id": "9b025f91-a66c-432d-b24e-03b25b875254",
   "metadata": {
    "tags": []
   },
   "outputs": [
    {
     "data": {
      "text/plain": [
       "'Set of 6 Highball Clear Glass 350ml Water Juice Cocktail …'"
      ]
     },
     "execution_count": 33,
     "metadata": {},
     "output_type": "execute_result"
    }
   ],
   "source": [
    "item_dict['01dkn0Gyx0L']['item_name'][0]['value']"
   ]
  },
  {
   "cell_type": "code",
   "execution_count": 34,
   "id": "4d3be361-6ef2-4fb1-9fc2-c828e3791c47",
   "metadata": {
    "tags": []
   },
   "outputs": [
    {
     "data": {
      "text/plain": [
       "'KITCHEN'"
      ]
     },
     "execution_count": 34,
     "metadata": {},
     "output_type": "execute_result"
    }
   ],
   "source": [
    "item_dict['01dkn0Gyx0L']['product_type'][0]['value']"
   ]
  },
  {
   "cell_type": "code",
   "execution_count": 35,
   "id": "3be5abfd-7896-47b5-af53-b08412368c06",
   "metadata": {
    "tags": []
   },
   "outputs": [
    {
     "data": {
      "text/plain": [
       "'bicchieri highball^bicchieri highball di base^set di bicchieri highball^bicchieri per bevande^bicchieri multiuso^bicchieri di vetro trasparente'"
      ]
     },
     "execution_count": 35,
     "metadata": {},
     "output_type": "execute_result"
    }
   ],
   "source": [
    "item_dict['01dkn0Gyx0L'][ 'item_keywords'][0]['value']"
   ]
  },
  {
   "cell_type": "code",
   "execution_count": null,
   "id": "4a63cfc0-aa28-4a6b-b25e-ce10edb7a4cb",
   "metadata": {},
   "outputs": [],
   "source": []
  }
 ],
 "metadata": {
  "kernelspec": {
   "display_name": "Python 3 (ipykernel)",
   "language": "python",
   "name": "python3"
  },
  "language_info": {
   "codemirror_mode": {
    "name": "ipython",
    "version": 3
   },
   "file_extension": ".py",
   "mimetype": "text/x-python",
   "name": "python",
   "nbconvert_exporter": "python",
   "pygments_lexer": "ipython3",
   "version": "3.9.18"
  }
 },
 "nbformat": 4,
 "nbformat_minor": 5
}
