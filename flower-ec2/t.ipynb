{
 "cells": [
  {
   "cell_type": "code",
   "execution_count": 1,
   "metadata": {},
   "outputs": [],
   "source": [
    "import os, fileinput\n",
    "from dotenv import load_dotenv\n",
    "from ec2_management.ec2_manager import EC2Client"
   ]
  },
  {
   "cell_type": "code",
   "execution_count": 3,
   "metadata": {},
   "outputs": [],
   "source": [
    "load_dotenv()\n",
    "AWS_ACCESS_KEY = os.environ['AWS_LAB_ACCESS_KEY']\n",
    "AWS_SECRET_ACCESS_KEY = os.environ['AWS_LAB_SECRET_ACCESS_KEY']\n",
    "AWS_SESSION_TOKEN = os.environ['AWS_LAB_SESSION_TOKEN']\n",
    "AWS_REGION = os.environ['AWS_REGION']\n",
    "AWS_KEY_PAIR = os.environ['AWS_KEY_PAIR']"
   ]
  },
  {
   "cell_type": "code",
   "execution_count": 4,
   "metadata": {},
   "outputs": [],
   "source": [
    "client = EC2Client(\n",
    "    aws_access_key=AWS_ACCESS_KEY,\n",
    "    aws_secret_access_key=AWS_SECRET_ACCESS_KEY,\n",
    "    aws_session_token=AWS_SESSION_TOKEN,\n",
    "    aws_region=AWS_REGION,\n",
    "    aws_key_pair=AWS_KEY_PAIR\n",
    ")"
   ]
  },
  {
   "cell_type": "code",
   "execution_count": null,
   "metadata": {},
   "outputs": [],
   "source": [
    "# add rule to the default security group to open port 8080\n",
    "client.open_port(default_group=True, port_number=8080)"
   ]
  },
  {
   "cell_type": "code",
   "execution_count": 3,
   "metadata": {},
   "outputs": [],
   "source": [
    "# create and run the server ec2 instance\n",
    "flower_server = client.create_instance('server', startup_script_path='flower-dependencies/server/server_startup.txt')"
   ]
  },
  {
   "cell_type": "code",
   "execution_count": 12,
   "metadata": {},
   "outputs": [],
   "source": [
    "# read client start-up script to modify the server public IP there\n",
    "with open('flower-dependencies/client/client_startup.txt', 'r') as f:\n",
    "    client_startup_script = [line for line in f.readlines()]\n",
    "# modify the line\n",
    "client_startup_script = [line.replace(line[line.find('= ')+len('= '):line.find('\\\\')], flower_server.public_ip_address) for line in client_startup_script]\n",
    "# write new version of the script\n",
    "with open('flower-dependencies/client/client_startup.txt', 'w') as f:\n",
    "    f.writelines(client_startup_script)"
   ]
  },
  {
   "cell_type": "code",
   "execution_count": null,
   "metadata": {},
   "outputs": [],
   "source": [
    "# create and run the clients ec2 instances\n",
    "flower_clients = client.create_instance('clients', startup_script_path='flower-dependencies/client/client_startup.txt', n_instances=2)"
   ]
  },
  {
   "cell_type": "code",
   "execution_count": 3,
   "metadata": {},
   "outputs": [
    {
     "data": {
      "text/plain": [
       "{'TerminatingInstances': [{'CurrentState': {'Code': 32,\n",
       "    'Name': 'shutting-down'},\n",
       "   'InstanceId': 'i-0156f5f0d72cf92a0',\n",
       "   'PreviousState': {'Code': 16, 'Name': 'running'}},\n",
       "  {'CurrentState': {'Code': 32, 'Name': 'shutting-down'},\n",
       "   'InstanceId': 'i-0c16cf6a52199f91d',\n",
       "   'PreviousState': {'Code': 16, 'Name': 'running'}}],\n",
       " 'ResponseMetadata': {'RequestId': 'fbb6da46-51f2-4772-9dfa-35802137da00',\n",
       "  'HTTPStatusCode': 200,\n",
       "  'HTTPHeaders': {'x-amzn-requestid': 'fbb6da46-51f2-4772-9dfa-35802137da00',\n",
       "   'cache-control': 'no-cache, no-store',\n",
       "   'strict-transport-security': 'max-age=31536000; includeSubDomains',\n",
       "   'content-type': 'text/xml;charset=UTF-8',\n",
       "   'content-length': '938',\n",
       "   'date': 'Fri, 17 Nov 2023 19:55:51 GMT',\n",
       "   'server': 'AmazonEC2'},\n",
       "  'RetryAttempts': 0}}"
      ]
     },
     "execution_count": 3,
     "metadata": {},
     "output_type": "execute_result"
    }
   ],
   "source": [
    "client.terminate_instance(instance_ids=[i['InstanceId'] for i in flower_clients['Instances']])"
   ]
  },
  {
   "cell_type": "code",
   "execution_count": null,
   "metadata": {},
   "outputs": [],
   "source": []
  },
  {
   "cell_type": "code",
   "execution_count": null,
   "metadata": {},
   "outputs": [],
   "source": []
  }
 ],
 "metadata": {
  "kernelspec": {
   "display_name": "Python 3",
   "language": "python",
   "name": "python3"
  },
  "language_info": {
   "codemirror_mode": {
    "name": "ipython",
    "version": 3
   },
   "file_extension": ".py",
   "mimetype": "text/x-python",
   "name": "python",
   "nbconvert_exporter": "python",
   "pygments_lexer": "ipython3",
   "version": "3.10.13"
  }
 },
 "nbformat": 4,
 "nbformat_minor": 2
}
