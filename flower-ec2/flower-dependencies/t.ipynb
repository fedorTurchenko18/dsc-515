{
 "cells": [
  {
   "cell_type": "code",
   "execution_count": 1,
   "metadata": {},
   "outputs": [
    {
     "name": "stdout",
     "output_type": "stream",
     "text": [
      "Using TensorFlow backend\n"
     ]
    }
   ],
   "source": [
    "import keras_core as keras\n",
    "\n",
    "INPUT_SHAPE = (256, 256, 3)\n",
    "N_CLASSES = 10\n",
    "OPTIMIZER = keras.optimizers.Adam(learning_rate=0.001)\n",
    "LOSS = 'categorical_crossentropy'\n",
    "METRICS = [keras.metrics.CategoricalAccuracy()]\n",
    "\n",
    "class KerasCoreCNN:\n",
    "    def __init__(self, input_shape=INPUT_SHAPE, optimizer=OPTIMIZER, loss=LOSS, metrics=METRICS, n_classes=N_CLASSES) -> None:\n",
    "        self.n_classes = n_classes\n",
    "        self.model = self.__build_model(input_shape)\n",
    "        self.model.compile(\n",
    "            optimizer=optimizer,\n",
    "            loss=loss,\n",
    "            metrics=metrics\n",
    "        )\n",
    "\n",
    "    def __build_model(self, input_shape):\n",
    "        inputs = keras.Input(shape=input_shape)\n",
    "        conv1 = keras.layers.Conv2D(16, (3, 3), activation='relu')(inputs)\n",
    "        maxpool1 = keras.layers.MaxPool2D(pool_size=(2, 2))(conv1)\n",
    "        conv2 = keras.layers.Conv2D(32, (3, 3), activation='relu')(maxpool1)\n",
    "        maxpool2 = keras.layers.MaxPool2D(pool_size=(2, 2))(conv2)\n",
    "        conv3 = keras.layers.Conv2D(64, (3, 3), activation='relu')(maxpool2)\n",
    "        maxpool3 = keras.layers.MaxPool2D(pool_size=(2, 2))(conv3)\n",
    "        flat = keras.layers.Flatten()(maxpool3)\n",
    "        dense = keras.layers.Dense(128, activation='relu')(flat)\n",
    "        outputs = keras.layers.Dense(self.n_classes, activation='softmax')(dense)\n",
    "        model = keras.Model(inputs=inputs, outputs=outputs)\n",
    "        return model\n"
   ]
  },
  {
   "cell_type": "code",
   "execution_count": 3,
   "metadata": {},
   "outputs": [
    {
     "data": {
      "text/plain": [
       "keras_core.src.models.functional.Functional"
      ]
     },
     "execution_count": 3,
     "metadata": {},
     "output_type": "execute_result"
    }
   ],
   "source": [
    "type(KerasCoreCNN().model)"
   ]
  },
  {
   "cell_type": "code",
   "execution_count": null,
   "metadata": {},
   "outputs": [],
   "source": [
    "keras.utils.image_dataset_from_directory()"
   ]
  }
 ],
 "metadata": {
  "kernelspec": {
   "display_name": "Python 3",
   "language": "python",
   "name": "python3"
  },
  "language_info": {
   "codemirror_mode": {
    "name": "ipython",
    "version": 3
   },
   "file_extension": ".py",
   "mimetype": "text/x-python",
   "name": "python",
   "nbconvert_exporter": "python",
   "pygments_lexer": "ipython3",
   "version": "3.10.13"
  }
 },
 "nbformat": 4,
 "nbformat_minor": 2
}
